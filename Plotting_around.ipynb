{
 "cells": [
  {
   "cell_type": "code",
   "execution_count": 1,
   "id": "90be22e1",
   "metadata": {},
   "outputs": [],
   "source": [
    "import pandas as pd\n",
    "from pprint import pprint\n",
    "import requests\n",
    "import matplotlib.pyplot as plt \n"
   ]
  },
  {
   "cell_type": "code",
   "execution_count": 2,
   "id": "bb5e1e8e",
   "metadata": {},
   "outputs": [],
   "source": [
    "file = pd.read_csv('Resources/roster_and_stats_merged.csv')"
   ]
  },
  {
   "cell_type": "code",
   "execution_count": 8,
   "id": "87ca3aa5",
   "metadata": {},
   "outputs": [
    {
     "data": {
      "image/png": "[encoded data removed]",
      "text/plain": [
       "<Figure size 432x288 with 1 Axes>"
      ]
     },
     "metadata": {
      "needs_background": "light"
     },
     "output_type": "display_data"
    }
   ],
   "source": [
    "K_stat = file['K%']\n",
    "ERA = file['ERA+']\n",
    "\n",
    "\n",
    "K_stat = K_stat.astype(float)\n",
    "    \n",
    "plt.scatter(ERA, K_stat)\n",
    "\n",
    "plt.show()\n",
    "\n"
   ]
  },
  {
   "cell_type": "code",
   "execution_count": 4,
   "id": "246dd2b2",
   "metadata": {},
   "outputs": [
    {
     "data": {
      "text/html": [
       "<div>\n",
       "<style scoped>\n",
       "    .dataframe tbody tr th:only-of-type {\n",
       "        vertical-align: middle;\n",
       "    }\n",
       "\n",
       "    .dataframe tbody tr th {\n",
       "        vertical-align: top;\n",
       "    }\n",
       "\n",
       "    .dataframe thead th {\n",
       "        text-align: right;\n",
       "    }\n",
       "</style>\n",
       "<table border=\"1\" class=\"dataframe\">\n",
       "  <thead>\n",
       "    <tr style=\"text-align: right;\">\n",
       "      <th></th>\n",
       "      <th>Unnamed: 0</th>\n",
       "      <th>Year</th>\n",
       "      <th>Player Name</th>\n",
       "      <th>Shortname</th>\n",
       "      <th>Age</th>\n",
       "      <th>ERA</th>\n",
       "      <th>ERA+</th>\n",
       "      <th>K%</th>\n",
       "      <th>BB%</th>\n",
       "    </tr>\n",
       "  </thead>\n",
       "  <tbody>\n",
       "    <tr>\n",
       "      <th>27</th>\n",
       "      <td>27</td>\n",
       "      <td>2019</td>\n",
       "      <td>Kirby Yates</td>\n",
       "      <td>yateski01</td>\n",
       "      <td>32.0</td>\n",
       "      <td>1.19</td>\n",
       "      <td>350.0</td>\n",
       "      <td>0.416</td>\n",
       "      <td>0.054</td>\n",
       "    </tr>\n",
       "    <tr>\n",
       "      <th>38</th>\n",
       "      <td>38</td>\n",
       "      <td>2018</td>\n",
       "      <td>Jeremy Jeffress</td>\n",
       "      <td>jeffrje01</td>\n",
       "      <td>30.0</td>\n",
       "      <td>1.29</td>\n",
       "      <td>317.0</td>\n",
       "      <td>0.298</td>\n",
       "      <td>0.090</td>\n",
       "    </tr>\n",
       "    <tr>\n",
       "      <th>58</th>\n",
       "      <td>58</td>\n",
       "      <td>2018</td>\n",
       "      <td>Blake Treinen</td>\n",
       "      <td>treinbl01</td>\n",
       "      <td>30.0</td>\n",
       "      <td>0.78</td>\n",
       "      <td>531.0</td>\n",
       "      <td>0.318</td>\n",
       "      <td>0.067</td>\n",
       "    </tr>\n",
       "    <tr>\n",
       "      <th>64</th>\n",
       "      <td>64</td>\n",
       "      <td>2017</td>\n",
       "      <td>Kenley Jansen</td>\n",
       "      <td>janseke01</td>\n",
       "      <td>29.0</td>\n",
       "      <td>1.32</td>\n",
       "      <td>315.0</td>\n",
       "      <td>0.423</td>\n",
       "      <td>0.027</td>\n",
       "    </tr>\n",
       "    <tr>\n",
       "      <th>80</th>\n",
       "      <td>80</td>\n",
       "      <td>2017</td>\n",
       "      <td>Craig Kimbrel</td>\n",
       "      <td>kimbrcr01</td>\n",
       "      <td>29.0</td>\n",
       "      <td>1.43</td>\n",
       "      <td>319.0</td>\n",
       "      <td>0.496</td>\n",
       "      <td>0.055</td>\n",
       "    </tr>\n",
       "    <tr>\n",
       "      <th>84</th>\n",
       "      <td>84</td>\n",
       "      <td>2017</td>\n",
       "      <td>Andrew Miller</td>\n",
       "      <td>millean01</td>\n",
       "      <td>32.0</td>\n",
       "      <td>1.44</td>\n",
       "      <td>319.0</td>\n",
       "      <td>0.389</td>\n",
       "      <td>0.086</td>\n",
       "    </tr>\n",
       "    <tr>\n",
       "      <th>92</th>\n",
       "      <td>92</td>\n",
       "      <td>2016</td>\n",
       "      <td>Zack Britton</td>\n",
       "      <td>brittza01</td>\n",
       "      <td>28.0</td>\n",
       "      <td>0.54</td>\n",
       "      <td>803.0</td>\n",
       "      <td>0.291</td>\n",
       "      <td>0.071</td>\n",
       "    </tr>\n",
       "    <tr>\n",
       "      <th>101</th>\n",
       "      <td>101</td>\n",
       "      <td>2016</td>\n",
       "      <td>Andrew Miller</td>\n",
       "      <td>millean01</td>\n",
       "      <td>31.0</td>\n",
       "      <td>1.45</td>\n",
       "      <td>304.0</td>\n",
       "      <td>0.447</td>\n",
       "      <td>0.033</td>\n",
       "    </tr>\n",
       "    <tr>\n",
       "      <th>143</th>\n",
       "      <td>143</td>\n",
       "      <td>2015</td>\n",
       "      <td>Wade Davis</td>\n",
       "      <td>daviswa01</td>\n",
       "      <td>29.0</td>\n",
       "      <td>0.94</td>\n",
       "      <td>448.0</td>\n",
       "      <td>0.311</td>\n",
       "      <td>0.080</td>\n",
       "    </tr>\n",
       "  </tbody>\n",
       "</table>\n",
       "</div>"
      ],
      "text/plain": [
       "     Unnamed: 0  Year      Player Name  Shortname   Age   ERA   ERA+     K%  \\\n",
       "27           27  2019      Kirby Yates  yateski01  32.0  1.19  350.0  0.416   \n",
       "38           38  2018  Jeremy Jeffress  jeffrje01  30.0  1.29  317.0  0.298   \n",
       "58           58  2018    Blake Treinen  treinbl01  30.0  0.78  531.0  0.318   \n",
       "64           64  2017    Kenley Jansen  janseke01  29.0  1.32  315.0  0.423   \n",
       "80           80  2017    Craig Kimbrel  kimbrcr01  29.0  1.43  319.0  0.496   \n",
       "84           84  2017    Andrew Miller  millean01  32.0  1.44  319.0  0.389   \n",
       "92           92  2016     Zack Britton  brittza01  28.0  0.54  803.0  0.291   \n",
       "101         101  2016    Andrew Miller  millean01  31.0  1.45  304.0  0.447   \n",
       "143         143  2015       Wade Davis  daviswa01  29.0  0.94  448.0  0.311   \n",
       "\n",
       "       BB%  \n",
       "27   0.054  \n",
       "38   0.090  \n",
       "58   0.067  \n",
       "64   0.027  \n",
       "80   0.055  \n",
       "84   0.086  \n",
       "92   0.071  \n",
       "101  0.033  \n",
       "143  0.080  "
      ]
     },
     "execution_count": 4,
     "metadata": {},
     "output_type": "execute_result"
    }
   ],
   "source": [
    "outlier_df = file[ERA > 300]\n",
    "outlier_df"
   ]
  },
  {
   "cell_type": "code",
   "execution_count": 9,
   "id": "220f3c47",
   "metadata": {},
   "outputs": [
    {
     "data": {
      "image/png": "[encoded data removed]",
      "text/plain": [
       "<Figure size 432x288 with 1 Axes>"
      ]
     },
     "metadata": {
      "needs_background": "light"
     },
     "output_type": "display_data"
    }
   ],
   "source": [
    "BB_stat = file['BB%']\n",
    "ERA = file['ERA+']\n",
    "\n",
    "BB_stat = BB_stat.astype(float)\n",
    "    \n",
    "plt.scatter(ERA, BB_stat)\n",
    "\n",
    "plt.show()"
   ]
  },
  {
   "cell_type": "code",
   "execution_count": 10,
   "id": "c7dcbeb2",
   "metadata": {},
   "outputs": [
    {
     "data": {
      "image/png": "[encoded data removed]",
      "text/plain": [
       "<Figure size 432x288 with 1 Axes>"
      ]
     },
     "metadata": {
      "needs_background": "light"
     },
     "output_type": "display_data"
    }
   ],
   "source": [
    "plt.scatter(K_stat, BB_stat)\n",
    "plt.show()"
   ]
  },
  {
   "cell_type": "code",
   "execution_count": 11,
   "id": "1b120109",
   "metadata": {},
   "outputs": [
    {
     "data": {
      "image/png": "[encoded data removed]",
      "text/plain": [
       "<Figure size 432x288 with 1 Axes>"
      ]
     },
     "metadata": {
      "needs_background": "light"
     },
     "output_type": "display_data"
    }
   ],
   "source": [
    "plt.scatter(file['Age'],ERA)\n",
    "plt.show()"
   ]
  },
  {
   "cell_type": "code",
   "execution_count": 15,
   "id": "5a79108e",
   "metadata": {},
   "outputs": [
    {
     "data": {
      "text/html": [
       "<div>\n",
       "<style scoped>\n",
       "    .dataframe tbody tr th:only-of-type {\n",
       "        vertical-align: middle;\n",
       "    }\n",
       "\n",
       "    .dataframe tbody tr th {\n",
       "        vertical-align: top;\n",
       "    }\n",
       "\n",
       "    .dataframe thead th {\n",
       "        text-align: right;\n",
       "    }\n",
       "</style>\n",
       "<table border=\"1\" class=\"dataframe\">\n",
       "  <thead>\n",
       "    <tr style=\"text-align: right;\">\n",
       "      <th></th>\n",
       "      <th>Unnamed: 0</th>\n",
       "      <th>Player Name</th>\n",
       "      <th>Shortname</th>\n",
       "      <th>Year</th>\n",
       "      <th>Age</th>\n",
       "      <th>ERA</th>\n",
       "      <th>ERA+</th>\n",
       "      <th>K%</th>\n",
       "      <th>BB%</th>\n",
       "    </tr>\n",
       "  </thead>\n",
       "  <tbody>\n",
       "    <tr>\n",
       "      <th>0</th>\n",
       "      <td>736</td>\n",
       "      <td>Austin Voth</td>\n",
       "      <td>vothau01</td>\n",
       "      <td>2019</td>\n",
       "      <td>27</td>\n",
       "      <td>3.30</td>\n",
       "      <td>134.0</td>\n",
       "      <td>0.253</td>\n",
       "      <td>0.075</td>\n",
       "    </tr>\n",
       "    <tr>\n",
       "      <th>1</th>\n",
       "      <td>737</td>\n",
       "      <td>Wander Suero</td>\n",
       "      <td>suerowa01</td>\n",
       "      <td>2019</td>\n",
       "      <td>27</td>\n",
       "      <td>4.54</td>\n",
       "      <td>97.0</td>\n",
       "      <td>0.274</td>\n",
       "      <td>0.088</td>\n",
       "    </tr>\n",
       "    <tr>\n",
       "      <th>2</th>\n",
       "      <td>738</td>\n",
       "      <td>Stephen Strasburg</td>\n",
       "      <td>strasst01</td>\n",
       "      <td>2019</td>\n",
       "      <td>30</td>\n",
       "      <td>3.32</td>\n",
       "      <td>133.0</td>\n",
       "      <td>0.299</td>\n",
       "      <td>0.067</td>\n",
       "    </tr>\n",
       "    <tr>\n",
       "      <th>3</th>\n",
       "      <td>739</td>\n",
       "      <td>Tony Sipp</td>\n",
       "      <td>sippto01</td>\n",
       "      <td>2019</td>\n",
       "      <td>35</td>\n",
       "      <td>4.71</td>\n",
       "      <td>95.0</td>\n",
       "      <td>0.196</td>\n",
       "      <td>0.098</td>\n",
       "    </tr>\n",
       "    <tr>\n",
       "      <th>4</th>\n",
       "      <td>740</td>\n",
       "      <td>Max Scherzer</td>\n",
       "      <td>scherma01</td>\n",
       "      <td>2019</td>\n",
       "      <td>34</td>\n",
       "      <td>2.92</td>\n",
       "      <td>151.0</td>\n",
       "      <td>0.351</td>\n",
       "      <td>0.048</td>\n",
       "    </tr>\n",
       "  </tbody>\n",
       "</table>\n",
       "</div>"
      ],
      "text/plain": [
       "   Unnamed: 0        Player Name  Shortname  Year  Age   ERA   ERA+     K%  \\\n",
       "0         736        Austin Voth   vothau01  2019   27  3.30  134.0  0.253   \n",
       "1         737       Wander Suero  suerowa01  2019   27  4.54   97.0  0.274   \n",
       "2         738  Stephen Strasburg  strasst01  2019   30  3.32  133.0  0.299   \n",
       "3         739          Tony Sipp   sippto01  2019   35  4.71   95.0  0.196   \n",
       "4         740       Max Scherzer  scherma01  2019   34  2.92  151.0  0.351   \n",
       "\n",
       "     BB%  \n",
       "0  0.075  \n",
       "1  0.088  \n",
       "2  0.067  \n",
       "3  0.098  \n",
       "4  0.048  "
      ]
     },
     "execution_count": 15,
     "metadata": {},
     "output_type": "execute_result"
    }
   ],
   "source": [
    "fpath = pd.read_csv('Resources/league_stats.csv')\n",
    "fpath.head()"
   ]
  },
  {
   "cell_type": "code",
   "execution_count": 17,
   "id": "6c2a190f",
   "metadata": {},
   "outputs": [
    {
     "data": {
      "text/plain": [
       "107.74423888347938"
      ]
     },
     "execution_count": 17,
     "metadata": {},
     "output_type": "execute_result"
    }
   ],
   "source": [
    "average_era = fpath['ERA+'].mean()\n",
    "average_era"
   ]
  },
  {
   "cell_type": "code",
   "execution_count": 18,
   "id": "a4de0117",
   "metadata": {
    "scrolled": true
   },
   "outputs": [
    {
     "data": {
      "image/png": "[encoded data removed]",
      "text/plain": [
       "<Figure size 432x288 with 1 Axes>"
      ]
     },
     "metadata": {
      "needs_background": "light"
     },
     "output_type": "display_data"
    }
   ],
   "source": [
    "average_K = fpath['K%']\n",
    "\n",
    "average_K = average_K.astype(float)\n",
    "mean_k = average_K.mean()\n",
    "plt.scatter(ERA, K_stat, label = 'All Stars')\n",
    "plt.plot(average_era, mean_k, 'ro', label ='Average')\n",
    "plt.legend(loc='best')\n",
    "plt.xlabel('ERA+')\n",
    "plt.ylabel('K%')\n",
    "plt.title('All Star vs Average MLB Pitcher 2015-2019')\n",
    "plt.tight_layout\n",
    "plt.savefig('Images/Strikeouts_vs_ERA.png', dpi=100)\n",
    "plt.show()"
   ]
  },
  {
   "cell_type": "code",
   "execution_count": 62,
   "id": "278b7714",
   "metadata": {},
   "outputs": [
    {
     "data": {
      "text/plain": [
       "<Figure size 432x288 with 0 Axes>"
      ]
     },
     "metadata": {},
     "output_type": "display_data"
    }
   ],
   "source": []
  },
  {
   "cell_type": "code",
   "execution_count": 54,
   "id": "b6438aa2",
   "metadata": {},
   "outputs": [
    {
     "data": {
      "text/html": [
       "<div>\n",
       "<style scoped>\n",
       "    .dataframe tbody tr th:only-of-type {\n",
       "        vertical-align: middle;\n",
       "    }\n",
       "\n",
       "    .dataframe tbody tr th {\n",
       "        vertical-align: top;\n",
       "    }\n",
       "\n",
       "    .dataframe thead th {\n",
       "        text-align: right;\n",
       "    }\n",
       "</style>\n",
       "<table border=\"1\" class=\"dataframe\">\n",
       "  <thead>\n",
       "    <tr style=\"text-align: right;\">\n",
       "      <th></th>\n",
       "      <th>Unnamed: 0</th>\n",
       "      <th>Year</th>\n",
       "      <th>Player Name</th>\n",
       "      <th>Shortname</th>\n",
       "      <th>Age</th>\n",
       "      <th>ERA</th>\n",
       "      <th>ERA+</th>\n",
       "      <th>K%</th>\n",
       "      <th>BB%</th>\n",
       "    </tr>\n",
       "  </thead>\n",
       "  <tbody>\n",
       "    <tr>\n",
       "      <th>27</th>\n",
       "      <td>27</td>\n",
       "      <td>2019</td>\n",
       "      <td>Kirby Yates</td>\n",
       "      <td>yateski01</td>\n",
       "      <td>32.0</td>\n",
       "      <td>1.19</td>\n",
       "      <td>350.0</td>\n",
       "      <td>41.60%</td>\n",
       "      <td>5.40%</td>\n",
       "    </tr>\n",
       "    <tr>\n",
       "      <th>38</th>\n",
       "      <td>38</td>\n",
       "      <td>2018</td>\n",
       "      <td>Jeremy Jeffress</td>\n",
       "      <td>jeffrje01</td>\n",
       "      <td>30.0</td>\n",
       "      <td>1.29</td>\n",
       "      <td>317.0</td>\n",
       "      <td>29.80%</td>\n",
       "      <td>9.00%</td>\n",
       "    </tr>\n",
       "    <tr>\n",
       "      <th>58</th>\n",
       "      <td>58</td>\n",
       "      <td>2018</td>\n",
       "      <td>Blake Treinen</td>\n",
       "      <td>treinbl01</td>\n",
       "      <td>30.0</td>\n",
       "      <td>0.78</td>\n",
       "      <td>531.0</td>\n",
       "      <td>31.80%</td>\n",
       "      <td>6.70%</td>\n",
       "    </tr>\n",
       "    <tr>\n",
       "      <th>64</th>\n",
       "      <td>64</td>\n",
       "      <td>2017</td>\n",
       "      <td>Kenley Jansen</td>\n",
       "      <td>janseke01</td>\n",
       "      <td>29.0</td>\n",
       "      <td>1.32</td>\n",
       "      <td>315.0</td>\n",
       "      <td>42.30%</td>\n",
       "      <td>2.70%</td>\n",
       "    </tr>\n",
       "    <tr>\n",
       "      <th>80</th>\n",
       "      <td>80</td>\n",
       "      <td>2017</td>\n",
       "      <td>Craig Kimbrel</td>\n",
       "      <td>kimbrcr01</td>\n",
       "      <td>29.0</td>\n",
       "      <td>1.43</td>\n",
       "      <td>319.0</td>\n",
       "      <td>49.60%</td>\n",
       "      <td>5.50%</td>\n",
       "    </tr>\n",
       "    <tr>\n",
       "      <th>84</th>\n",
       "      <td>84</td>\n",
       "      <td>2017</td>\n",
       "      <td>Andrew Miller</td>\n",
       "      <td>millean01</td>\n",
       "      <td>32.0</td>\n",
       "      <td>1.44</td>\n",
       "      <td>319.0</td>\n",
       "      <td>38.90%</td>\n",
       "      <td>8.60%</td>\n",
       "    </tr>\n",
       "    <tr>\n",
       "      <th>92</th>\n",
       "      <td>92</td>\n",
       "      <td>2016</td>\n",
       "      <td>Zack Britton</td>\n",
       "      <td>brittza01</td>\n",
       "      <td>28.0</td>\n",
       "      <td>0.54</td>\n",
       "      <td>803.0</td>\n",
       "      <td>29.10%</td>\n",
       "      <td>7.10%</td>\n",
       "    </tr>\n",
       "    <tr>\n",
       "      <th>101</th>\n",
       "      <td>101</td>\n",
       "      <td>2016</td>\n",
       "      <td>Andrew Miller</td>\n",
       "      <td>millean01</td>\n",
       "      <td>31.0</td>\n",
       "      <td>1.45</td>\n",
       "      <td>304.0</td>\n",
       "      <td>44.70%</td>\n",
       "      <td>3.30%</td>\n",
       "    </tr>\n",
       "    <tr>\n",
       "      <th>143</th>\n",
       "      <td>143</td>\n",
       "      <td>2015</td>\n",
       "      <td>Wade Davis</td>\n",
       "      <td>daviswa01</td>\n",
       "      <td>29.0</td>\n",
       "      <td>0.94</td>\n",
       "      <td>448.0</td>\n",
       "      <td>31.10%</td>\n",
       "      <td>8.00%</td>\n",
       "    </tr>\n",
       "  </tbody>\n",
       "</table>\n",
       "</div>"
      ],
      "text/plain": [
       "     Unnamed: 0  Year      Player Name  Shortname   Age   ERA   ERA+      K%  \\\n",
       "27           27  2019      Kirby Yates  yateski01  32.0  1.19  350.0  41.60%   \n",
       "38           38  2018  Jeremy Jeffress  jeffrje01  30.0  1.29  317.0  29.80%   \n",
       "58           58  2018    Blake Treinen  treinbl01  30.0  0.78  531.0  31.80%   \n",
       "64           64  2017    Kenley Jansen  janseke01  29.0  1.32  315.0  42.30%   \n",
       "80           80  2017    Craig Kimbrel  kimbrcr01  29.0  1.43  319.0  49.60%   \n",
       "84           84  2017    Andrew Miller  millean01  32.0  1.44  319.0  38.90%   \n",
       "92           92  2016     Zack Britton  brittza01  28.0  0.54  803.0  29.10%   \n",
       "101         101  2016    Andrew Miller  millean01  31.0  1.45  304.0  44.70%   \n",
       "143         143  2015       Wade Davis  daviswa01  29.0  0.94  448.0  31.10%   \n",
       "\n",
       "       BB%  \n",
       "27   5.40%  \n",
       "38   9.00%  \n",
       "58   6.70%  \n",
       "64   2.70%  \n",
       "80   5.50%  \n",
       "84   8.60%  \n",
       "92   7.10%  \n",
       "101  3.30%  \n",
       "143  8.00%  "
      ]
     },
     "execution_count": 54,
     "metadata": {},
     "output_type": "execute_result"
    }
   ],
   "source": [
    "outlier_df"
   ]
  },
  {
   "cell_type": "code",
   "execution_count": 21,
   "id": "804795a9",
   "metadata": {},
   "outputs": [
    {
     "data": {
      "text/plain": [
       "0.09097500811424884"
      ]
     },
     "execution_count": 21,
     "metadata": {},
     "output_type": "execute_result"
    }
   ],
   "source": [
    "average_BB = fpath['BB%']\n",
    "average_BB = average_BB.astype(float)\n",
    "mean_BB = average_BB.mean()\n",
    "mean_BB"
   ]
  },
  {
   "cell_type": "code",
   "execution_count": 23,
   "id": "9d56aa0a",
   "metadata": {},
   "outputs": [
    {
     "data": {
      "text/plain": [
       "<function matplotlib.pyplot.show(close=None, block=None)>"
      ]
     },
     "execution_count": 23,
     "metadata": {},
     "output_type": "execute_result"
    },
    {
     "data": {
      "image/png": "[encoded data removed]",
      "text/plain": [
       "<Figure size 432x288 with 1 Axes>"
      ]
     },
     "metadata": {
      "needs_background": "light"
     },
     "output_type": "display_data"
    }
   ],
   "source": [
    "BB_stat = file['BB%']\n",
    "ERA = file['ERA+']\n",
    "\n",
    "BB_stat = BB_stat.astype(float)\n",
    "    \n",
    "\n",
    "plt.scatter(ERA, BB_stat, label = 'All Stars')\n",
    "plt.plot(average_era, mean_BB, 'ro', label ='Average')\n",
    "plt.legend(loc='best')\n",
    "plt.xlabel('ERA+')\n",
    "plt.ylabel('BB%')\n",
    "plt.title('All Star vs Average MLB Pitcher 2015-2019')\n",
    "plt.tight_layout\n",
    "plt.savefig('Images/Walks_vs_ERA.png', dpi=100)\n",
    "plt.show"
   ]
  },
  {
   "cell_type": "code",
   "execution_count": null,
   "id": "236b24ad",
   "metadata": {},
   "outputs": [],
   "source": []
  },
  {
   "cell_type": "code",
   "execution_count": null,
   "id": "0fb8b763",
   "metadata": {},
   "outputs": [],
   "source": []
  }
 ],
 "metadata": {
  "kernelspec": {
   "display_name": "Python 3",
   "language": "python",
   "name": "python3"
  },
  "language_info": {
   "codemirror_mode": {
    "name": "ipython",
    "version": 3
   },
   "file_extension": ".py",
   "mimetype": "text/x-python",
   "name": "python",
   "nbconvert_exporter": "python",
   "pygments_lexer": "ipython3",
   "version": "3.8.8"
  }
 },
 "nbformat": 4,
 "nbformat_minor": 5
}
