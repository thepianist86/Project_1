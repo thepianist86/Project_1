{
 "cells": [
  {
   "cell_type": "code",
   "execution_count": 1,
   "id": "90be22e1",
   "metadata": {},
   "outputs": [],
   "source": [
    "import pandas as pd\n",
    "from pprint import pprint\n",
    "import requests\n",
    "import matplotlib.pyplot as plt \n"
   ]
  },
  {
   "cell_type": "code",
   "execution_count": 30,
   "id": "bb5e1e8e",
   "metadata": {},
   "outputs": [
    {
     "data": {
      "text/html": [
       "<div>\n",
       "<style scoped>\n",
       "    .dataframe tbody tr th:only-of-type {\n",
       "        vertical-align: middle;\n",
       "    }\n",
       "\n",
       "    .dataframe tbody tr th {\n",
       "        vertical-align: top;\n",
       "    }\n",
       "\n",
       "    .dataframe thead th {\n",
       "        text-align: right;\n",
       "    }\n",
       "</style>\n",
       "<table border=\"1\" class=\"dataframe\">\n",
       "  <thead>\n",
       "    <tr style=\"text-align: right;\">\n",
       "      <th></th>\n",
       "      <th>Unnamed: 0</th>\n",
       "      <th>Year</th>\n",
       "      <th>Player Name</th>\n",
       "      <th>Shortname</th>\n",
       "      <th>Age</th>\n",
       "      <th>ERA</th>\n",
       "      <th>ERA+</th>\n",
       "      <th>K%</th>\n",
       "      <th>BB%</th>\n",
       "    </tr>\n",
       "  </thead>\n",
       "  <tbody>\n",
       "    <tr>\n",
       "      <th>0</th>\n",
       "      <td>0</td>\n",
       "      <td>2019</td>\n",
       "      <td>Shane Bieber</td>\n",
       "      <td>biebesh01</td>\n",
       "      <td>24.0</td>\n",
       "      <td>3.28</td>\n",
       "      <td>147.0</td>\n",
       "      <td>30.20%</td>\n",
       "      <td>4.70%</td>\n",
       "    </tr>\n",
       "    <tr>\n",
       "      <th>1</th>\n",
       "      <td>1</td>\n",
       "      <td>2019</td>\n",
       "      <td>Aroldis Chapman</td>\n",
       "      <td>chapmar01</td>\n",
       "      <td>31.0</td>\n",
       "      <td>2.21</td>\n",
       "      <td>206.0</td>\n",
       "      <td>36.20%</td>\n",
       "      <td>10.60%</td>\n",
       "    </tr>\n",
       "    <tr>\n",
       "      <th>2</th>\n",
       "      <td>2</td>\n",
       "      <td>2019</td>\n",
       "      <td>Gerrit Cole</td>\n",
       "      <td>colege01</td>\n",
       "      <td>28.0</td>\n",
       "      <td>2.50</td>\n",
       "      <td>185.0</td>\n",
       "      <td>39.90%</td>\n",
       "      <td>5.90%</td>\n",
       "    </tr>\n",
       "    <tr>\n",
       "      <th>3</th>\n",
       "      <td>3</td>\n",
       "      <td>2019</td>\n",
       "      <td>Lucas Giolito</td>\n",
       "      <td>giolilu01</td>\n",
       "      <td>24.0</td>\n",
       "      <td>3.41</td>\n",
       "      <td>134.0</td>\n",
       "      <td>32.30%</td>\n",
       "      <td>8.10%</td>\n",
       "    </tr>\n",
       "    <tr>\n",
       "      <th>4</th>\n",
       "      <td>4</td>\n",
       "      <td>2019</td>\n",
       "      <td>Shane Greene</td>\n",
       "      <td>greensh02</td>\n",
       "      <td>30.0</td>\n",
       "      <td>2.30</td>\n",
       "      <td>207.0</td>\n",
       "      <td>25.40%</td>\n",
       "      <td>6.80%</td>\n",
       "    </tr>\n",
       "  </tbody>\n",
       "</table>\n",
       "</div>"
      ],
      "text/plain": [
       "   Unnamed: 0  Year      Player Name  Shortname   Age   ERA   ERA+      K%  \\\n",
       "0           0  2019     Shane Bieber  biebesh01  24.0  3.28  147.0  30.20%   \n",
       "1           1  2019  Aroldis Chapman  chapmar01  31.0  2.21  206.0  36.20%   \n",
       "2           2  2019      Gerrit Cole   colege01  28.0  2.50  185.0  39.90%   \n",
       "3           3  2019    Lucas Giolito  giolilu01  24.0  3.41  134.0  32.30%   \n",
       "4           4  2019     Shane Greene  greensh02  30.0  2.30  207.0  25.40%   \n",
       "\n",
       "      BB%  \n",
       "0   4.70%  \n",
       "1  10.60%  \n",
       "2   5.90%  \n",
       "3   8.10%  \n",
       "4   6.80%  "
      ]
     },
     "execution_count": 30,
     "metadata": {},
     "output_type": "execute_result"
    }
   ],
   "source": [
    "file = pd.read_csv('roster_and_stats_merged.csv')"
   ]
  },
  {
   "cell_type": "code",
   "execution_count": 39,
   "id": "87ca3aa5",
   "metadata": {},
   "outputs": [
    {
     "data": {
      "image/png": "[encoded data removed]",
      "text/plain": [
       "<Figure size 432x288 with 1 Axes>"
      ]
     },
     "metadata": {
      "needs_background": "light"
     },
     "output_type": "display_data"
    }
   ],
   "source": [
    "K_stat = file['K%']\n",
    "ERA = file['ERA+']\n",
    "\n",
    "K_stat = K_stat.str.strip('%')\n",
    "\n",
    "K_stat = K_stat.astype(float)\n",
    "    \n",
    "plt.scatter(ERA, K_stat)\n",
    "\n",
    "plt.show()\n",
    "\n"
   ]
  },
  {
   "cell_type": "code",
   "execution_count": 42,
   "id": "246dd2b2",
   "metadata": {},
   "outputs": [
    {
     "data": {
      "text/html": [
       "<div>\n",
       "<style scoped>\n",
       "    .dataframe tbody tr th:only-of-type {\n",
       "        vertical-align: middle;\n",
       "    }\n",
       "\n",
       "    .dataframe tbody tr th {\n",
       "        vertical-align: top;\n",
       "    }\n",
       "\n",
       "    .dataframe thead th {\n",
       "        text-align: right;\n",
       "    }\n",
       "</style>\n",
       "<table border=\"1\" class=\"dataframe\">\n",
       "  <thead>\n",
       "    <tr style=\"text-align: right;\">\n",
       "      <th></th>\n",
       "      <th>Unnamed: 0</th>\n",
       "      <th>Year</th>\n",
       "      <th>Player Name</th>\n",
       "      <th>Shortname</th>\n",
       "      <th>Age</th>\n",
       "      <th>ERA</th>\n",
       "      <th>ERA+</th>\n",
       "      <th>K%</th>\n",
       "      <th>BB%</th>\n",
       "    </tr>\n",
       "  </thead>\n",
       "  <tbody>\n",
       "    <tr>\n",
       "      <th>27</th>\n",
       "      <td>27</td>\n",
       "      <td>2019</td>\n",
       "      <td>Kirby Yates</td>\n",
       "      <td>yateski01</td>\n",
       "      <td>32.0</td>\n",
       "      <td>1.19</td>\n",
       "      <td>350.0</td>\n",
       "      <td>41.60%</td>\n",
       "      <td>5.40%</td>\n",
       "    </tr>\n",
       "    <tr>\n",
       "      <th>38</th>\n",
       "      <td>38</td>\n",
       "      <td>2018</td>\n",
       "      <td>Jeremy Jeffress</td>\n",
       "      <td>jeffrje01</td>\n",
       "      <td>30.0</td>\n",
       "      <td>1.29</td>\n",
       "      <td>317.0</td>\n",
       "      <td>29.80%</td>\n",
       "      <td>9.00%</td>\n",
       "    </tr>\n",
       "    <tr>\n",
       "      <th>58</th>\n",
       "      <td>58</td>\n",
       "      <td>2018</td>\n",
       "      <td>Blake Treinen</td>\n",
       "      <td>treinbl01</td>\n",
       "      <td>30.0</td>\n",
       "      <td>0.78</td>\n",
       "      <td>531.0</td>\n",
       "      <td>31.80%</td>\n",
       "      <td>6.70%</td>\n",
       "    </tr>\n",
       "    <tr>\n",
       "      <th>64</th>\n",
       "      <td>64</td>\n",
       "      <td>2017</td>\n",
       "      <td>Kenley Jansen</td>\n",
       "      <td>janseke01</td>\n",
       "      <td>29.0</td>\n",
       "      <td>1.32</td>\n",
       "      <td>315.0</td>\n",
       "      <td>42.30%</td>\n",
       "      <td>2.70%</td>\n",
       "    </tr>\n",
       "    <tr>\n",
       "      <th>80</th>\n",
       "      <td>80</td>\n",
       "      <td>2017</td>\n",
       "      <td>Craig Kimbrel</td>\n",
       "      <td>kimbrcr01</td>\n",
       "      <td>29.0</td>\n",
       "      <td>1.43</td>\n",
       "      <td>319.0</td>\n",
       "      <td>49.60%</td>\n",
       "      <td>5.50%</td>\n",
       "    </tr>\n",
       "    <tr>\n",
       "      <th>84</th>\n",
       "      <td>84</td>\n",
       "      <td>2017</td>\n",
       "      <td>Andrew Miller</td>\n",
       "      <td>millean01</td>\n",
       "      <td>32.0</td>\n",
       "      <td>1.44</td>\n",
       "      <td>319.0</td>\n",
       "      <td>38.90%</td>\n",
       "      <td>8.60%</td>\n",
       "    </tr>\n",
       "    <tr>\n",
       "      <th>92</th>\n",
       "      <td>92</td>\n",
       "      <td>2016</td>\n",
       "      <td>Zack Britton</td>\n",
       "      <td>brittza01</td>\n",
       "      <td>28.0</td>\n",
       "      <td>0.54</td>\n",
       "      <td>803.0</td>\n",
       "      <td>29.10%</td>\n",
       "      <td>7.10%</td>\n",
       "    </tr>\n",
       "    <tr>\n",
       "      <th>101</th>\n",
       "      <td>101</td>\n",
       "      <td>2016</td>\n",
       "      <td>Andrew Miller</td>\n",
       "      <td>millean01</td>\n",
       "      <td>31.0</td>\n",
       "      <td>1.45</td>\n",
       "      <td>304.0</td>\n",
       "      <td>44.70%</td>\n",
       "      <td>3.30%</td>\n",
       "    </tr>\n",
       "    <tr>\n",
       "      <th>143</th>\n",
       "      <td>143</td>\n",
       "      <td>2015</td>\n",
       "      <td>Wade Davis</td>\n",
       "      <td>daviswa01</td>\n",
       "      <td>29.0</td>\n",
       "      <td>0.94</td>\n",
       "      <td>448.0</td>\n",
       "      <td>31.10%</td>\n",
       "      <td>8.00%</td>\n",
       "    </tr>\n",
       "  </tbody>\n",
       "</table>\n",
       "</div>"
      ],
      "text/plain": [
       "     Unnamed: 0  Year      Player Name  Shortname   Age   ERA   ERA+      K%  \\\n",
       "27           27  2019      Kirby Yates  yateski01  32.0  1.19  350.0  41.60%   \n",
       "38           38  2018  Jeremy Jeffress  jeffrje01  30.0  1.29  317.0  29.80%   \n",
       "58           58  2018    Blake Treinen  treinbl01  30.0  0.78  531.0  31.80%   \n",
       "64           64  2017    Kenley Jansen  janseke01  29.0  1.32  315.0  42.30%   \n",
       "80           80  2017    Craig Kimbrel  kimbrcr01  29.0  1.43  319.0  49.60%   \n",
       "84           84  2017    Andrew Miller  millean01  32.0  1.44  319.0  38.90%   \n",
       "92           92  2016     Zack Britton  brittza01  28.0  0.54  803.0  29.10%   \n",
       "101         101  2016    Andrew Miller  millean01  31.0  1.45  304.0  44.70%   \n",
       "143         143  2015       Wade Davis  daviswa01  29.0  0.94  448.0  31.10%   \n",
       "\n",
       "       BB%  \n",
       "27   5.40%  \n",
       "38   9.00%  \n",
       "58   6.70%  \n",
       "64   2.70%  \n",
       "80   5.50%  \n",
       "84   8.60%  \n",
       "92   7.10%  \n",
       "101  3.30%  \n",
       "143  8.00%  "
      ]
     },
     "execution_count": 42,
     "metadata": {},
     "output_type": "execute_result"
    }
   ],
   "source": [
    "outlier_df = file[ERA > 300]\n",
    "outlier_df"
   ]
  },
  {
   "cell_type": "code",
   "execution_count": 43,
   "id": "220f3c47",
   "metadata": {},
   "outputs": [
    {
     "data": {
      "image/png": "[encoded data removed]",
      "text/plain": [
       "<Figure size 432x288 with 1 Axes>"
      ]
     },
     "metadata": {
      "needs_background": "light"
     },
     "output_type": "display_data"
    }
   ],
   "source": [
    "BB_stat = file['BB%']\n",
    "ERA = file['ERA+']\n",
    "\n",
    "BB_stat = BB_stat.str.strip('%')\n",
    "\n",
    "BB_stat = BB_stat.astype(float)\n",
    "    \n",
    "plt.scatter(ERA, BB_stat)\n",
    "\n",
    "plt.show()"
   ]
  },
  {
   "cell_type": "code",
   "execution_count": 45,
   "id": "c7dcbeb2",
   "metadata": {},
   "outputs": [
    {
     "data": {
      "image/png": "[encoded data removed]",
      "text/plain": [
       "<Figure size 432x288 with 1 Axes>"
      ]
     },
     "metadata": {
      "needs_background": "light"
     },
     "output_type": "display_data"
    }
   ],
   "source": [
    "plt.scatter(K_stat, BB_stat)\n",
    "plt.show()"
   ]
  },
  {
   "cell_type": "code",
   "execution_count": 48,
   "id": "1b120109",
   "metadata": {},
   "outputs": [
    {
     "data": {
      "image/png": "[encoded data removed]",
      "text/plain": [
       "<Figure size 432x288 with 1 Axes>"
      ]
     },
     "metadata": {
      "needs_background": "light"
     },
     "output_type": "display_data"
    }
   ],
   "source": [
    "plt.scatter(file['Age'],ERA)\n",
    "plt.show()"
   ]
  },
  {
   "cell_type": "code",
   "execution_count": null,
   "id": "5a79108e",
   "metadata": {},
   "outputs": [],
   "source": []
  }
 ],
 "metadata": {
  "kernelspec": {
   "display_name": "Python 3",
   "language": "python",
   "name": "python3"
  },
  "language_info": {
   "codemirror_mode": {
    "name": "ipython",
    "version": 3
   },
   "file_extension": ".py",
   "mimetype": "text/x-python",
   "name": "python",
   "nbconvert_exporter": "python",
   "pygments_lexer": "ipython3",
   "version": "3.8.8"
  }
 },
 "nbformat": 4,
 "nbformat_minor": 5
}
