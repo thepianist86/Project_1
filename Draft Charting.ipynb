{
 "cells": [
  {
   "cell_type": "markdown",
   "id": "7f6be8de",
   "metadata": {},
   "source": [
    "Scope: Our project is to uncover data trends among all star MLB pitchers from 2016-2021. We will examine relationships between their strikeout %, ERA (earned run average) , BB (walk)%, in their all star seasons, as well as some of their physical dimensions and place of birth (state if domestic, country if foreign born).\n"
   ]
  },
  {
   "cell_type": "code",
   "execution_count": 61,
   "id": "43732edb",
   "metadata": {},
   "outputs": [],
   "source": [
    "import pandas as pd\n",
    "from pprint import pprint"
   ]
  },
  {
   "cell_type": "code",
   "execution_count": 62,
   "id": "8f9f50cb",
   "metadata": {},
   "outputs": [
    {
     "data": {
      "text/html": [
       "<div>\n",
       "<style scoped>\n",
       "    .dataframe tbody tr th:only-of-type {\n",
       "        vertical-align: middle;\n",
       "    }\n",
       "\n",
       "    .dataframe tbody tr th {\n",
       "        vertical-align: top;\n",
       "    }\n",
       "\n",
       "    .dataframe thead th {\n",
       "        text-align: right;\n",
       "    }\n",
       "</style>\n",
       "<table border=\"1\" class=\"dataframe\">\n",
       "  <thead>\n",
       "    <tr style=\"text-align: right;\">\n",
       "      <th></th>\n",
       "      <th>Year</th>\n",
       "      <th>Player Name</th>\n",
       "      <th>Shortname</th>\n",
       "      <th>Age</th>\n",
       "      <th>ERA</th>\n",
       "      <th>ERA+</th>\n",
       "      <th>K%</th>\n",
       "      <th>BB%</th>\n",
       "    </tr>\n",
       "  </thead>\n",
       "  <tbody>\n",
       "    <tr>\n",
       "      <th>0</th>\n",
       "      <td>2019</td>\n",
       "      <td>Shane Bieber</td>\n",
       "      <td>biebesh01</td>\n",
       "      <td>24.0</td>\n",
       "      <td>3.28</td>\n",
       "      <td>147.0</td>\n",
       "      <td>0.302</td>\n",
       "      <td>0.047</td>\n",
       "    </tr>\n",
       "    <tr>\n",
       "      <th>1</th>\n",
       "      <td>2019</td>\n",
       "      <td>Aroldis Chapman</td>\n",
       "      <td>chapmar01</td>\n",
       "      <td>31.0</td>\n",
       "      <td>2.21</td>\n",
       "      <td>206.0</td>\n",
       "      <td>0.362</td>\n",
       "      <td>0.106</td>\n",
       "    </tr>\n",
       "    <tr>\n",
       "      <th>2</th>\n",
       "      <td>2019</td>\n",
       "      <td>Gerrit Cole</td>\n",
       "      <td>colege01</td>\n",
       "      <td>28.0</td>\n",
       "      <td>2.50</td>\n",
       "      <td>185.0</td>\n",
       "      <td>0.399</td>\n",
       "      <td>0.059</td>\n",
       "    </tr>\n",
       "    <tr>\n",
       "      <th>3</th>\n",
       "      <td>2019</td>\n",
       "      <td>Lucas Giolito</td>\n",
       "      <td>giolilu01</td>\n",
       "      <td>24.0</td>\n",
       "      <td>3.41</td>\n",
       "      <td>134.0</td>\n",
       "      <td>0.323</td>\n",
       "      <td>0.081</td>\n",
       "    </tr>\n",
       "    <tr>\n",
       "      <th>4</th>\n",
       "      <td>2019</td>\n",
       "      <td>Shane Greene</td>\n",
       "      <td>greensh02</td>\n",
       "      <td>30.0</td>\n",
       "      <td>2.30</td>\n",
       "      <td>207.0</td>\n",
       "      <td>0.254</td>\n",
       "      <td>0.068</td>\n",
       "    </tr>\n",
       "  </tbody>\n",
       "</table>\n",
       "</div>"
      ],
      "text/plain": [
       "   Year      Player Name  Shortname   Age   ERA   ERA+     K%    BB%\n",
       "0  2019     Shane Bieber  biebesh01  24.0  3.28  147.0  0.302  0.047\n",
       "1  2019  Aroldis Chapman  chapmar01  31.0  2.21  206.0  0.362  0.106\n",
       "2  2019      Gerrit Cole   colege01  28.0  2.50  185.0  0.399  0.059\n",
       "3  2019    Lucas Giolito  giolilu01  24.0  3.41  134.0  0.323  0.081\n",
       "4  2019     Shane Greene  greensh02  30.0  2.30  207.0  0.254  0.068"
      ]
     },
     "execution_count": 62,
     "metadata": {},
     "output_type": "execute_result"
    }
   ],
   "source": [
    "fpath = 'roster_and_stats_merged.csv'\n",
    "stats_df = pd.read_csv(fpath,index_col=0)\n",
    "stats_df.head()"
   ]
  },
  {
   "cell_type": "code",
   "execution_count": 63,
   "id": "c844224e",
   "metadata": {},
   "outputs": [
    {
     "data": {
      "text/plain": [
       "Year\n",
       "2015    28.000000\n",
       "2016    28.970588\n",
       "2017    28.655172\n",
       "2018    28.833333\n",
       "2019    28.866667\n",
       "Name: Age, dtype: float64"
      ]
     },
     "execution_count": 63,
     "metadata": {},
     "output_type": "execute_result"
    }
   ],
   "source": [
    "age_grpd = stats_df.groupby('Year')\n",
    "age_grpd['Age'].mean()"
   ]
  },
  {
   "cell_type": "code",
   "execution_count": 64,
   "id": "c1e2220c",
   "metadata": {},
   "outputs": [
    {
     "data": {
      "text/plain": [
       "<AxesSubplot:title={'center':'Average Age by Year'}, xlabel='Year'>"
      ]
     },
     "execution_count": 64,
     "metadata": {},
     "output_type": "execute_result"
    },
    {
     "data": {
      "image/png": "[encoded data removed]",
      "text/plain": [
       "<Figure size 432x288 with 1 Axes>"
      ]
     },
     "metadata": {
      "needs_background": "light"
     },
     "output_type": "display_data"
    }
   ],
   "source": [
    "age_grpd['Age'].mean().plot.bar(title='Average Age by Year')"
   ]
  },
  {
   "cell_type": "code",
   "execution_count": 65,
   "id": "39e0816e",
   "metadata": {},
   "outputs": [
    {
     "data": {
      "text/plain": [
       "<AxesSubplot:title={'center':'Age Range by Year'}, xlabel='Year', ylabel='Age'>"
      ]
     },
     "execution_count": 65,
     "metadata": {},
     "output_type": "execute_result"
    },
    {
     "data": {
      "image/png": "[encoded data removed]",
      "text/plain": [
       "<Figure size 432x288 with 1 Axes>"
      ]
     },
     "metadata": {
      "needs_background": "light"
     },
     "output_type": "display_data"
    }
   ],
   "source": [
    "stats_df.plot('Year','Age',kind='scatter',title=\"Age Range by Year\")"
   ]
  },
  {
   "cell_type": "code",
   "execution_count": 72,
   "id": "6ed12d60",
   "metadata": {},
   "outputs": [
    {
     "data": {
      "text/plain": [
       "<AxesSubplot:title={'center':'Strikeouts'}, xlabel='Strikeout Percentage', ylabel='ERA'>"
      ]
     },
     "execution_count": 72,
     "metadata": {},
     "output_type": "execute_result"
    },
    {
     "data": {
      "image/png": "[encoded data removed]",
      "text/plain": [
       "<Figure size 432x288 with 1 Axes>"
      ]
     },
     "metadata": {
      "needs_background": "light"
     },
     "output_type": "display_data"
    }
   ],
   "source": [
    "stats_df.plot('BB%','ERA',kind='scatter',xlabel='Strikeout Percentage',ylabel='ERA',title=\"Strikeouts\")"
   ]
  },
  {
   "cell_type": "code",
   "execution_count": null,
   "id": "a9d5b9c0",
   "metadata": {},
   "outputs": [],
   "source": []
  }
 ],
 "metadata": {
  "kernelspec": {
   "display_name": "Python 3",
   "language": "python",
   "name": "python3"
  },
  "language_info": {
   "codemirror_mode": {
    "name": "ipython",
    "version": 3
   },
   "file_extension": ".py",
   "mimetype": "text/x-python",
   "name": "python",
   "nbconvert_exporter": "python",
   "pygments_lexer": "ipython3",
   "version": "3.8.8"
  }
 },
 "nbformat": 4,
 "nbformat_minor": 5
}
