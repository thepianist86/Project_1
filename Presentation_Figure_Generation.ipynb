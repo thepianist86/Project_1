{
 "cells": [
  {
   "cell_type": "markdown",
   "id": "0e488d2a",
   "metadata": {},
   "source": [
    "# Generating Figures"
   ]
  },
  {
   "cell_type": "markdown",
   "id": "b4dfaf08",
   "metadata": {},
   "source": [
    "###### Scope: Our project is to uncover data trends among all star MLB pitchers from 2016-2021. We will examine relationships between their strikeout %, ERA (earned run average) , BB (walk)%, in their all star seasons, as well as some of their physical dimensions and place of birth (state if domestic, country if foreign born)."
   ]
  },
  {
   "cell_type": "code",
   "execution_count": 23,
   "id": "47d513ab",
   "metadata": {},
   "outputs": [],
   "source": [
    "import pandas as pd\n",
    "import requests\n",
    "import json\n",
    "from pprint import pprint\n",
    "import csv\n",
    "from matplotlib import pyplot as plt\n",
    "import numpy as np"
   ]
  },
  {
   "cell_type": "code",
   "execution_count": 7,
   "id": "2270cde2",
   "metadata": {},
   "outputs": [],
   "source": [
    "fpath1 = 'Resources/roster_and_stats_merged.csv'\n",
    "fpath2 = 'Resources/dimensions_dict.csv'\n",
    "\n",
    "allstar_df = pd.read_csv(fpath1)\n",
    "allstar_df\n",
    "\n",
    "league_df = pd.read_csv(fpath2)\n",
    "league_df\n",
    "\n",
    "# Grabbing csv data generated in 'Cleaning DataFrames.ipynb'\n",
    "stats_df = pd.read_csv(fpath1,index_col=0)\n",
    "players_df = pd.read_csv(fpath2,index_col=0)\n"
   ]
  },
  {
   "cell_type": "code",
   "execution_count": 8,
   "id": "fa5f2ba8",
   "metadata": {},
   "outputs": [
    {
     "data": {
      "text/html": [
       "<div>\n",
       "<style scoped>\n",
       "    .dataframe tbody tr th:only-of-type {\n",
       "        vertical-align: middle;\n",
       "    }\n",
       "\n",
       "    .dataframe tbody tr th {\n",
       "        vertical-align: top;\n",
       "    }\n",
       "\n",
       "    .dataframe thead th {\n",
       "        text-align: right;\n",
       "    }\n",
       "</style>\n",
       "<table border=\"1\" class=\"dataframe\">\n",
       "  <thead>\n",
       "    <tr style=\"text-align: right;\">\n",
       "      <th></th>\n",
       "      <th>Year</th>\n",
       "      <th>Player Name</th>\n",
       "      <th>Shortname</th>\n",
       "      <th>Age</th>\n",
       "      <th>ERA</th>\n",
       "      <th>ERA+</th>\n",
       "      <th>K%</th>\n",
       "      <th>BB%</th>\n",
       "    </tr>\n",
       "  </thead>\n",
       "  <tbody>\n",
       "    <tr>\n",
       "      <th>0</th>\n",
       "      <td>2019</td>\n",
       "      <td>Shane Bieber</td>\n",
       "      <td>biebesh01</td>\n",
       "      <td>24.0</td>\n",
       "      <td>3.28</td>\n",
       "      <td>147.0</td>\n",
       "      <td>0.302</td>\n",
       "      <td>0.047</td>\n",
       "    </tr>\n",
       "    <tr>\n",
       "      <th>1</th>\n",
       "      <td>2019</td>\n",
       "      <td>Aroldis Chapman</td>\n",
       "      <td>chapmar01</td>\n",
       "      <td>31.0</td>\n",
       "      <td>2.21</td>\n",
       "      <td>206.0</td>\n",
       "      <td>0.362</td>\n",
       "      <td>0.106</td>\n",
       "    </tr>\n",
       "    <tr>\n",
       "      <th>2</th>\n",
       "      <td>2019</td>\n",
       "      <td>Gerrit Cole</td>\n",
       "      <td>colege01</td>\n",
       "      <td>28.0</td>\n",
       "      <td>2.50</td>\n",
       "      <td>185.0</td>\n",
       "      <td>0.399</td>\n",
       "      <td>0.059</td>\n",
       "    </tr>\n",
       "    <tr>\n",
       "      <th>3</th>\n",
       "      <td>2019</td>\n",
       "      <td>Lucas Giolito</td>\n",
       "      <td>giolilu01</td>\n",
       "      <td>24.0</td>\n",
       "      <td>3.41</td>\n",
       "      <td>134.0</td>\n",
       "      <td>0.323</td>\n",
       "      <td>0.081</td>\n",
       "    </tr>\n",
       "    <tr>\n",
       "      <th>4</th>\n",
       "      <td>2019</td>\n",
       "      <td>Shane Greene</td>\n",
       "      <td>greensh02</td>\n",
       "      <td>30.0</td>\n",
       "      <td>2.30</td>\n",
       "      <td>207.0</td>\n",
       "      <td>0.254</td>\n",
       "      <td>0.068</td>\n",
       "    </tr>\n",
       "  </tbody>\n",
       "</table>\n",
       "</div>"
      ],
      "text/plain": [
       "   Year      Player Name  Shortname   Age   ERA   ERA+     K%    BB%\n",
       "0  2019     Shane Bieber  biebesh01  24.0  3.28  147.0  0.302  0.047\n",
       "1  2019  Aroldis Chapman  chapmar01  31.0  2.21  206.0  0.362  0.106\n",
       "2  2019      Gerrit Cole   colege01  28.0  2.50  185.0  0.399  0.059\n",
       "3  2019    Lucas Giolito  giolilu01  24.0  3.41  134.0  0.323  0.081\n",
       "4  2019     Shane Greene  greensh02  30.0  2.30  207.0  0.254  0.068"
      ]
     },
     "execution_count": 8,
     "metadata": {},
     "output_type": "execute_result"
    }
   ],
   "source": [
    "stats_df.head()"
   ]
  },
  {
   "cell_type": "code",
   "execution_count": 10,
   "id": "15d6008a",
   "metadata": {},
   "outputs": [
    {
     "data": {
      "text/html": [
       "<div>\n",
       "<style scoped>\n",
       "    .dataframe tbody tr th:only-of-type {\n",
       "        vertical-align: middle;\n",
       "    }\n",
       "\n",
       "    .dataframe tbody tr th {\n",
       "        vertical-align: top;\n",
       "    }\n",
       "\n",
       "    .dataframe thead th {\n",
       "        text-align: right;\n",
       "    }\n",
       "</style>\n",
       "<table border=\"1\" class=\"dataframe\">\n",
       "  <thead>\n",
       "    <tr style=\"text-align: right;\">\n",
       "      <th></th>\n",
       "      <th>position</th>\n",
       "      <th>birth_country</th>\n",
       "      <th>weight</th>\n",
       "      <th>birth_state</th>\n",
       "      <th>name_display_first_last</th>\n",
       "      <th>college</th>\n",
       "      <th>height_inches</th>\n",
       "      <th>name_display_roster</th>\n",
       "      <th>sport_code</th>\n",
       "      <th>bats</th>\n",
       "      <th>...</th>\n",
       "      <th>league</th>\n",
       "      <th>name_display_last_first</th>\n",
       "      <th>position_id</th>\n",
       "      <th>high_school</th>\n",
       "      <th>name_use</th>\n",
       "      <th>player_id</th>\n",
       "      <th>name_last</th>\n",
       "      <th>team_id</th>\n",
       "      <th>service_years</th>\n",
       "      <th>active_sw</th>\n",
       "    </tr>\n",
       "  </thead>\n",
       "  <tbody>\n",
       "    <tr>\n",
       "      <th>0</th>\n",
       "      <td>P</td>\n",
       "      <td>USA</td>\n",
       "      <td>200</td>\n",
       "      <td>CA</td>\n",
       "      <td>Shane Bieber</td>\n",
       "      <td>UC Santa Barbara</td>\n",
       "      <td>3</td>\n",
       "      <td>Bieber</td>\n",
       "      <td>mlb</td>\n",
       "      <td>R</td>\n",
       "      <td>...</td>\n",
       "      <td>AL</td>\n",
       "      <td>Bieber, Shane</td>\n",
       "      <td>1</td>\n",
       "      <td>Laguna Hills, CA</td>\n",
       "      <td>Shane</td>\n",
       "      <td>669456</td>\n",
       "      <td>Bieber</td>\n",
       "      <td>114</td>\n",
       "      <td>NaN</td>\n",
       "      <td>Y</td>\n",
       "    </tr>\n",
       "    <tr>\n",
       "      <th>1</th>\n",
       "      <td>P</td>\n",
       "      <td>Cuba</td>\n",
       "      <td>218</td>\n",
       "      <td>NaN</td>\n",
       "      <td>Aroldis Chapman</td>\n",
       "      <td>NaN</td>\n",
       "      <td>4</td>\n",
       "      <td>Chapman, A</td>\n",
       "      <td>mlb</td>\n",
       "      <td>L</td>\n",
       "      <td>...</td>\n",
       "      <td>AL</td>\n",
       "      <td>Chapman, Aroldis</td>\n",
       "      <td>1</td>\n",
       "      <td>NaN</td>\n",
       "      <td>Aroldis</td>\n",
       "      <td>547973</td>\n",
       "      <td>Chapman</td>\n",
       "      <td>147</td>\n",
       "      <td>NaN</td>\n",
       "      <td>Y</td>\n",
       "    </tr>\n",
       "  </tbody>\n",
       "</table>\n",
       "<p>2 rows × 29 columns</p>\n",
       "</div>"
      ],
      "text/plain": [
       "  position birth_country  weight birth_state name_display_first_last  \\\n",
       "0        P           USA     200          CA            Shane Bieber   \n",
       "1        P          Cuba     218         NaN         Aroldis Chapman   \n",
       "\n",
       "            college  height_inches name_display_roster sport_code bats  ...  \\\n",
       "0  UC Santa Barbara              3              Bieber        mlb    R  ...   \n",
       "1               NaN              4          Chapman, A        mlb    L  ...   \n",
       "\n",
       "  league name_display_last_first position_id       high_school name_use  \\\n",
       "0     AL           Bieber, Shane           1  Laguna Hills, CA    Shane   \n",
       "1     AL        Chapman, Aroldis           1               NaN  Aroldis   \n",
       "\n",
       "  player_id name_last team_id service_years active_sw  \n",
       "0    669456    Bieber     114           NaN         Y  \n",
       "1    547973   Chapman     147           NaN         Y  \n",
       "\n",
       "[2 rows x 29 columns]"
      ]
     },
     "execution_count": 10,
     "metadata": {},
     "output_type": "execute_result"
    }
   ],
   "source": [
    "players_df.head(2)"
   ]
  },
  {
   "cell_type": "code",
   "execution_count": 11,
   "id": "587f57ac",
   "metadata": {},
   "outputs": [
    {
     "data": {
      "text/plain": [
       "<AxesSubplot:title={'center':'All Star Players by Birth Country\\n2015-2019'}, xlabel='Country', ylabel='Number of Players'>"
      ]
     },
     "execution_count": 11,
     "metadata": {},
     "output_type": "execute_result"
    },
    {
     "data": {
      "image/png": "[encoded data removed]",
      "text/plain": [
       "<Figure size 1440x720 with 1 Axes>"
      ]
     },
     "metadata": {
      "needs_background": "light"
     },
     "output_type": "display_data"
    }
   ],
   "source": [
    "# Creating group based on country\n",
    "country_grp = players_df.groupby(['birth_country'])['birth_country'].count()\n",
    "\n",
    "# Plot Country group data\n",
    "country_grp.plot(kind='bar',title='All Star Players by Birth Country\\n2015-2019',\n",
    "                 xlabel='Country',ylabel='Number of Players',rot=50,figsize=(20,10))\n",
    "\n",
    "# Commented-out to prevent regenerating file\n",
    "# plt.savefig('Images/as_player_country.png')"
   ]
  },
  {
   "cell_type": "code",
   "execution_count": 12,
   "id": "84339fac",
   "metadata": {},
   "outputs": [
    {
     "data": {
      "text/plain": [
       "<AxesSubplot:title={'center':'All Star Players by Birth State\\n2015-2019'}, xlabel='State', ylabel='Number of Players'>"
      ]
     },
     "execution_count": 12,
     "metadata": {},
     "output_type": "execute_result"
    },
    {
     "data": {
      "image/png": "[encoded data removed]",
      "text/plain": [
       "<Figure size 1440x720 with 1 Axes>"
      ]
     },
     "metadata": {
      "needs_background": "light"
     },
     "output_type": "display_data"
    }
   ],
   "source": [
    "# Filtering for USA born players, and grouping by state\n",
    "as_us = players_df[players_df['birth_country']=='USA']\n",
    "state_grp = as_us.groupby([\"birth_state\"])['birth_state'].count()\n",
    "\n",
    "# Plot State data\n",
    "state_grp.plot(kind='bar',title='All Star Players by Birth State\\n2015-2019',\n",
    "                 xlabel='State',ylabel='Number of Players',rot=50,figsize=(20,10))\n",
    "\n",
    "# Commented-out to prevent regenerating file\n",
    "# plt.savefig('Images/as_player_state.png')"
   ]
  },
  {
   "cell_type": "code",
   "execution_count": 13,
   "id": "ed082378",
   "metadata": {},
   "outputs": [
    {
     "data": {
      "text/plain": [
       "<AxesSubplot:xlabel='Height', ylabel='ERA+'>"
      ]
     },
     "execution_count": 13,
     "metadata": {},
     "output_type": "execute_result"
    },
    {
     "data": {
      "image/png": "[encoded data removed]",
      "text/plain": [
       "<Figure size 1440x720 with 1 Axes>"
      ]
     },
     "metadata": {
      "needs_background": "light"
     },
     "output_type": "display_data"
    }
   ],
   "source": [
    "# Merge player dimensions into statistic dataframe\n",
    "by_weight = pd.merge(players_df,stats_df,how='left',left_on='name_display_first_last',right_on='Player Name')\n",
    "\n",
    "# Plot ERA+ against weight\n",
    "by_weight.plot('weight','ERA+',kind='scatter',rot=45,figsize=(20,10),xlabel='Height')\n",
    "\n",
    "\n",
    "# Commented-out to prevent regenerating file\n",
    "# plt.savefig('Images/as_player_weight.png')\n"
   ]
  },
  {
   "cell_type": "markdown",
   "id": "33e2ccde",
   "metadata": {},
   "source": [
    "Part 2"
   ]
  },
  {
   "cell_type": "code",
   "execution_count": 14,
   "id": "4cb2d756",
   "metadata": {},
   "outputs": [],
   "source": [
    "fpath3 = 'Resources/league_stats.csv'"
   ]
  },
  {
   "cell_type": "code",
   "execution_count": 16,
   "id": "a21e0ddd",
   "metadata": {},
   "outputs": [],
   "source": [
    "# Generating allstar dataframe\n",
    "allstar_df = pd.read_csv(fpath1)\n",
    "\n",
    "# Generating league-wide dataframe\n",
    "league_df = pd.read_csv(fpath3)"
   ]
  },
  {
   "cell_type": "code",
   "execution_count": 29,
   "id": "2f6b53ea",
   "metadata": {},
   "outputs": [
    {
     "data": {
      "text/html": [
       "<div>\n",
       "<style scoped>\n",
       "    .dataframe tbody tr th:only-of-type {\n",
       "        vertical-align: middle;\n",
       "    }\n",
       "\n",
       "    .dataframe tbody tr th {\n",
       "        vertical-align: top;\n",
       "    }\n",
       "\n",
       "    .dataframe thead th {\n",
       "        text-align: right;\n",
       "    }\n",
       "</style>\n",
       "<table border=\"1\" class=\"dataframe\">\n",
       "  <thead>\n",
       "    <tr style=\"text-align: right;\">\n",
       "      <th></th>\n",
       "      <th>Unnamed: 0</th>\n",
       "      <th>Year</th>\n",
       "      <th>Player Name</th>\n",
       "      <th>Shortname</th>\n",
       "      <th>Age</th>\n",
       "      <th>ERA</th>\n",
       "      <th>ERA+</th>\n",
       "      <th>K%</th>\n",
       "      <th>BB%</th>\n",
       "    </tr>\n",
       "  </thead>\n",
       "  <tbody>\n",
       "    <tr>\n",
       "      <th>0</th>\n",
       "      <td>0</td>\n",
       "      <td>2019</td>\n",
       "      <td>Shane Bieber</td>\n",
       "      <td>biebesh01</td>\n",
       "      <td>24.0</td>\n",
       "      <td>3.28</td>\n",
       "      <td>147.0</td>\n",
       "      <td>0.302</td>\n",
       "      <td>0.047</td>\n",
       "    </tr>\n",
       "    <tr>\n",
       "      <th>1</th>\n",
       "      <td>1</td>\n",
       "      <td>2019</td>\n",
       "      <td>Aroldis Chapman</td>\n",
       "      <td>chapmar01</td>\n",
       "      <td>31.0</td>\n",
       "      <td>2.21</td>\n",
       "      <td>206.0</td>\n",
       "      <td>0.362</td>\n",
       "      <td>0.106</td>\n",
       "    </tr>\n",
       "    <tr>\n",
       "      <th>2</th>\n",
       "      <td>2</td>\n",
       "      <td>2019</td>\n",
       "      <td>Gerrit Cole</td>\n",
       "      <td>colege01</td>\n",
       "      <td>28.0</td>\n",
       "      <td>2.50</td>\n",
       "      <td>185.0</td>\n",
       "      <td>0.399</td>\n",
       "      <td>0.059</td>\n",
       "    </tr>\n",
       "    <tr>\n",
       "      <th>3</th>\n",
       "      <td>3</td>\n",
       "      <td>2019</td>\n",
       "      <td>Lucas Giolito</td>\n",
       "      <td>giolilu01</td>\n",
       "      <td>24.0</td>\n",
       "      <td>3.41</td>\n",
       "      <td>134.0</td>\n",
       "      <td>0.323</td>\n",
       "      <td>0.081</td>\n",
       "    </tr>\n",
       "    <tr>\n",
       "      <th>4</th>\n",
       "      <td>4</td>\n",
       "      <td>2019</td>\n",
       "      <td>Shane Greene</td>\n",
       "      <td>greensh02</td>\n",
       "      <td>30.0</td>\n",
       "      <td>2.30</td>\n",
       "      <td>207.0</td>\n",
       "      <td>0.254</td>\n",
       "      <td>0.068</td>\n",
       "    </tr>\n",
       "    <tr>\n",
       "      <th>...</th>\n",
       "      <td>...</td>\n",
       "      <td>...</td>\n",
       "      <td>...</td>\n",
       "      <td>...</td>\n",
       "      <td>...</td>\n",
       "      <td>...</td>\n",
       "      <td>...</td>\n",
       "      <td>...</td>\n",
       "      <td>...</td>\n",
       "    </tr>\n",
       "    <tr>\n",
       "      <th>147</th>\n",
       "      <td>147</td>\n",
       "      <td>2015</td>\n",
       "      <td>Darren O'Day</td>\n",
       "      <td>odayda01</td>\n",
       "      <td>32.0</td>\n",
       "      <td>1.52</td>\n",
       "      <td>272.0</td>\n",
       "      <td>0.319</td>\n",
       "      <td>0.055</td>\n",
       "    </tr>\n",
       "    <tr>\n",
       "      <th>148</th>\n",
       "      <td>148</td>\n",
       "      <td>2015</td>\n",
       "      <td>Glen Perkins</td>\n",
       "      <td>perkigl01</td>\n",
       "      <td>32.0</td>\n",
       "      <td>3.32</td>\n",
       "      <td>123.0</td>\n",
       "      <td>0.227</td>\n",
       "      <td>0.042</td>\n",
       "    </tr>\n",
       "    <tr>\n",
       "      <th>149</th>\n",
       "      <td>149</td>\n",
       "      <td>2015</td>\n",
       "      <td>David Price</td>\n",
       "      <td>priceda01</td>\n",
       "      <td>29.0</td>\n",
       "      <td>2.45</td>\n",
       "      <td>164.0</td>\n",
       "      <td>0.253</td>\n",
       "      <td>0.053</td>\n",
       "    </tr>\n",
       "    <tr>\n",
       "      <th>150</th>\n",
       "      <td>150</td>\n",
       "      <td>2015</td>\n",
       "      <td>Chris Sale</td>\n",
       "      <td>salech01</td>\n",
       "      <td>26.0</td>\n",
       "      <td>3.41</td>\n",
       "      <td>114.0</td>\n",
       "      <td>0.321</td>\n",
       "      <td>0.049</td>\n",
       "    </tr>\n",
       "    <tr>\n",
       "      <th>151</th>\n",
       "      <td>151</td>\n",
       "      <td>2015</td>\n",
       "      <td>Hector Santiago</td>\n",
       "      <td>santihe01</td>\n",
       "      <td>27.0</td>\n",
       "      <td>3.59</td>\n",
       "      <td>105.0</td>\n",
       "      <td>0.209</td>\n",
       "      <td>0.092</td>\n",
       "    </tr>\n",
       "  </tbody>\n",
       "</table>\n",
       "<p>152 rows × 9 columns</p>\n",
       "</div>"
      ],
      "text/plain": [
       "     Unnamed: 0  Year      Player Name  Shortname   Age   ERA   ERA+     K%  \\\n",
       "0             0  2019     Shane Bieber  biebesh01  24.0  3.28  147.0  0.302   \n",
       "1             1  2019  Aroldis Chapman  chapmar01  31.0  2.21  206.0  0.362   \n",
       "2             2  2019      Gerrit Cole   colege01  28.0  2.50  185.0  0.399   \n",
       "3             3  2019    Lucas Giolito  giolilu01  24.0  3.41  134.0  0.323   \n",
       "4             4  2019     Shane Greene  greensh02  30.0  2.30  207.0  0.254   \n",
       "..          ...   ...              ...        ...   ...   ...    ...    ...   \n",
       "147         147  2015     Darren O'Day   odayda01  32.0  1.52  272.0  0.319   \n",
       "148         148  2015     Glen Perkins  perkigl01  32.0  3.32  123.0  0.227   \n",
       "149         149  2015      David Price  priceda01  29.0  2.45  164.0  0.253   \n",
       "150         150  2015       Chris Sale   salech01  26.0  3.41  114.0  0.321   \n",
       "151         151  2015  Hector Santiago  santihe01  27.0  3.59  105.0  0.209   \n",
       "\n",
       "       BB%  \n",
       "0    0.047  \n",
       "1    0.106  \n",
       "2    0.059  \n",
       "3    0.081  \n",
       "4    0.068  \n",
       "..     ...  \n",
       "147  0.055  \n",
       "148  0.042  \n",
       "149  0.053  \n",
       "150  0.049  \n",
       "151  0.092  \n",
       "\n",
       "[152 rows x 9 columns]"
      ]
     },
     "execution_count": 29,
     "metadata": {},
     "output_type": "execute_result"
    }
   ],
   "source": [
    "allstar_df"
   ]
  },
  {
   "cell_type": "code",
   "execution_count": 30,
   "id": "5976ef5a",
   "metadata": {},
   "outputs": [
    {
     "data": {
      "text/html": [
       "<div>\n",
       "<style scoped>\n",
       "    .dataframe tbody tr th:only-of-type {\n",
       "        vertical-align: middle;\n",
       "    }\n",
       "\n",
       "    .dataframe tbody tr th {\n",
       "        vertical-align: top;\n",
       "    }\n",
       "\n",
       "    .dataframe thead th {\n",
       "        text-align: right;\n",
       "    }\n",
       "</style>\n",
       "<table border=\"1\" class=\"dataframe\">\n",
       "  <thead>\n",
       "    <tr style=\"text-align: right;\">\n",
       "      <th></th>\n",
       "      <th>Unnamed: 0</th>\n",
       "      <th>Player Name</th>\n",
       "      <th>Shortname</th>\n",
       "      <th>Year</th>\n",
       "      <th>Age</th>\n",
       "      <th>ERA</th>\n",
       "      <th>ERA+</th>\n",
       "      <th>K%</th>\n",
       "      <th>BB%</th>\n",
       "    </tr>\n",
       "  </thead>\n",
       "  <tbody>\n",
       "    <tr>\n",
       "      <th>0</th>\n",
       "      <td>736</td>\n",
       "      <td>Austin Voth</td>\n",
       "      <td>vothau01</td>\n",
       "      <td>2019</td>\n",
       "      <td>27</td>\n",
       "      <td>3.30</td>\n",
       "      <td>134.0</td>\n",
       "      <td>0.253</td>\n",
       "      <td>0.075</td>\n",
       "    </tr>\n",
       "    <tr>\n",
       "      <th>1</th>\n",
       "      <td>737</td>\n",
       "      <td>Wander Suero</td>\n",
       "      <td>suerowa01</td>\n",
       "      <td>2019</td>\n",
       "      <td>27</td>\n",
       "      <td>4.54</td>\n",
       "      <td>97.0</td>\n",
       "      <td>0.274</td>\n",
       "      <td>0.088</td>\n",
       "    </tr>\n",
       "    <tr>\n",
       "      <th>2</th>\n",
       "      <td>738</td>\n",
       "      <td>Stephen Strasburg</td>\n",
       "      <td>strasst01</td>\n",
       "      <td>2019</td>\n",
       "      <td>30</td>\n",
       "      <td>3.32</td>\n",
       "      <td>133.0</td>\n",
       "      <td>0.299</td>\n",
       "      <td>0.067</td>\n",
       "    </tr>\n",
       "    <tr>\n",
       "      <th>3</th>\n",
       "      <td>739</td>\n",
       "      <td>Tony Sipp</td>\n",
       "      <td>sippto01</td>\n",
       "      <td>2019</td>\n",
       "      <td>35</td>\n",
       "      <td>4.71</td>\n",
       "      <td>95.0</td>\n",
       "      <td>0.196</td>\n",
       "      <td>0.098</td>\n",
       "    </tr>\n",
       "    <tr>\n",
       "      <th>4</th>\n",
       "      <td>740</td>\n",
       "      <td>Max Scherzer</td>\n",
       "      <td>scherma01</td>\n",
       "      <td>2019</td>\n",
       "      <td>34</td>\n",
       "      <td>2.92</td>\n",
       "      <td>151.0</td>\n",
       "      <td>0.351</td>\n",
       "      <td>0.048</td>\n",
       "    </tr>\n",
       "    <tr>\n",
       "      <th>...</th>\n",
       "      <td>...</td>\n",
       "      <td>...</td>\n",
       "      <td>...</td>\n",
       "      <td>...</td>\n",
       "      <td>...</td>\n",
       "      <td>...</td>\n",
       "      <td>...</td>\n",
       "      <td>...</td>\n",
       "      <td>...</td>\n",
       "    </tr>\n",
       "    <tr>\n",
       "      <th>3076</th>\n",
       "      <td>4592</td>\n",
       "      <td>Jonathan Broxton</td>\n",
       "      <td>broxtjo01</td>\n",
       "      <td>2015</td>\n",
       "      <td>31</td>\n",
       "      <td>4.62</td>\n",
       "      <td>86.0</td>\n",
       "      <td>0.245</td>\n",
       "      <td>0.086</td>\n",
       "    </tr>\n",
       "    <tr>\n",
       "      <th>3077</th>\n",
       "      <td>4593</td>\n",
       "      <td>Aaron Brooks</td>\n",
       "      <td>brookaa01</td>\n",
       "      <td>2015</td>\n",
       "      <td>25</td>\n",
       "      <td>6.67</td>\n",
       "      <td>60.0</td>\n",
       "      <td>0.152</td>\n",
       "      <td>0.056</td>\n",
       "    </tr>\n",
       "    <tr>\n",
       "      <th>3078</th>\n",
       "      <td>4594</td>\n",
       "      <td>Matthew Boyd</td>\n",
       "      <td>boydma01</td>\n",
       "      <td>2015</td>\n",
       "      <td>24</td>\n",
       "      <td>7.53</td>\n",
       "      <td>54.0</td>\n",
       "      <td>0.171</td>\n",
       "      <td>0.079</td>\n",
       "    </tr>\n",
       "    <tr>\n",
       "      <th>3079</th>\n",
       "      <td>4595</td>\n",
       "      <td>Joe Blanton</td>\n",
       "      <td>blantjo01</td>\n",
       "      <td>2015</td>\n",
       "      <td>34</td>\n",
       "      <td>2.84</td>\n",
       "      <td>143.0</td>\n",
       "      <td>0.256</td>\n",
       "      <td>0.052</td>\n",
       "    </tr>\n",
       "    <tr>\n",
       "      <th>3080</th>\n",
       "      <td>4596</td>\n",
       "      <td>Luis Avilan</td>\n",
       "      <td>avilalu01</td>\n",
       "      <td>2015</td>\n",
       "      <td>25</td>\n",
       "      <td>4.05</td>\n",
       "      <td>95.0</td>\n",
       "      <td>0.223</td>\n",
       "      <td>0.068</td>\n",
       "    </tr>\n",
       "  </tbody>\n",
       "</table>\n",
       "<p>3081 rows × 9 columns</p>\n",
       "</div>"
      ],
      "text/plain": [
       "      Unnamed: 0        Player Name  Shortname  Year  Age   ERA   ERA+     K%  \\\n",
       "0            736        Austin Voth   vothau01  2019   27  3.30  134.0  0.253   \n",
       "1            737       Wander Suero  suerowa01  2019   27  4.54   97.0  0.274   \n",
       "2            738  Stephen Strasburg  strasst01  2019   30  3.32  133.0  0.299   \n",
       "3            739          Tony Sipp   sippto01  2019   35  4.71   95.0  0.196   \n",
       "4            740       Max Scherzer  scherma01  2019   34  2.92  151.0  0.351   \n",
       "...          ...                ...        ...   ...  ...   ...    ...    ...   \n",
       "3076        4592   Jonathan Broxton  broxtjo01  2015   31  4.62   86.0  0.245   \n",
       "3077        4593       Aaron Brooks  brookaa01  2015   25  6.67   60.0  0.152   \n",
       "3078        4594       Matthew Boyd   boydma01  2015   24  7.53   54.0  0.171   \n",
       "3079        4595        Joe Blanton  blantjo01  2015   34  2.84  143.0  0.256   \n",
       "3080        4596        Luis Avilan  avilalu01  2015   25  4.05   95.0  0.223   \n",
       "\n",
       "        BB%  \n",
       "0     0.075  \n",
       "1     0.088  \n",
       "2     0.067  \n",
       "3     0.098  \n",
       "4     0.048  \n",
       "...     ...  \n",
       "3076  0.086  \n",
       "3077  0.056  \n",
       "3078  0.079  \n",
       "3079  0.052  \n",
       "3080  0.068  \n",
       "\n",
       "[3081 rows x 9 columns]"
      ]
     },
     "execution_count": 30,
     "metadata": {},
     "output_type": "execute_result"
    }
   ],
   "source": [
    "league_df"
   ]
  },
  {
   "cell_type": "code",
   "execution_count": 19,
   "id": "47b1fc95",
   "metadata": {},
   "outputs": [
    {
     "data": {
      "text/html": [
       "<div>\n",
       "<style scoped>\n",
       "    .dataframe tbody tr th:only-of-type {\n",
       "        vertical-align: middle;\n",
       "    }\n",
       "\n",
       "    .dataframe tbody tr th {\n",
       "        vertical-align: top;\n",
       "    }\n",
       "\n",
       "    .dataframe thead th {\n",
       "        text-align: right;\n",
       "    }\n",
       "</style>\n",
       "<table border=\"1\" class=\"dataframe\">\n",
       "  <thead>\n",
       "    <tr style=\"text-align: right;\">\n",
       "      <th></th>\n",
       "      <th>Year</th>\n",
       "      <th>Unnamed: 0</th>\n",
       "      <th>Age</th>\n",
       "      <th>ERA</th>\n",
       "      <th>ERA+</th>\n",
       "      <th>K%</th>\n",
       "      <th>BB%</th>\n",
       "    </tr>\n",
       "  </thead>\n",
       "  <tbody>\n",
       "    <tr>\n",
       "      <th>0</th>\n",
       "      <td>2015</td>\n",
       "      <td>137.0</td>\n",
       "      <td>28.000000</td>\n",
       "      <td>2.558929</td>\n",
       "      <td>171.464286</td>\n",
       "      <td>0.266857</td>\n",
       "      <td>0.068929</td>\n",
       "    </tr>\n",
       "    <tr>\n",
       "      <th>1</th>\n",
       "      <td>2016</td>\n",
       "      <td>105.5</td>\n",
       "      <td>28.970588</td>\n",
       "      <td>2.735000</td>\n",
       "      <td>178.176471</td>\n",
       "      <td>0.279765</td>\n",
       "      <td>0.073353</td>\n",
       "    </tr>\n",
       "  </tbody>\n",
       "</table>\n",
       "</div>"
      ],
      "text/plain": [
       "   Year  Unnamed: 0        Age       ERA        ERA+        K%       BB%\n",
       "0  2015       137.0  28.000000  2.558929  171.464286  0.266857  0.068929\n",
       "1  2016       105.5  28.970588  2.735000  178.176471  0.279765  0.073353"
      ]
     },
     "execution_count": 19,
     "metadata": {},
     "output_type": "execute_result"
    }
   ],
   "source": [
    "# Grouping All-Stars by year to summarize statistical trends\n",
    "allstar_year_group = allstar_df.groupby('Year')\n",
    "allstar_year_mean = allstar_year_group.mean()\n",
    "allstar_year_df = pd.DataFrame(allstar_year_mean)\n",
    "allstar_year_df = allstar_year_df.reset_index()\n",
    "allstar_year_df.head(2)"
   ]
  },
  {
   "cell_type": "code",
   "execution_count": 21,
   "id": "74e500e6",
   "metadata": {},
   "outputs": [
    {
     "data": {
      "text/html": [
       "<div>\n",
       "<style scoped>\n",
       "    .dataframe tbody tr th:only-of-type {\n",
       "        vertical-align: middle;\n",
       "    }\n",
       "\n",
       "    .dataframe tbody tr th {\n",
       "        vertical-align: top;\n",
       "    }\n",
       "\n",
       "    .dataframe thead th {\n",
       "        text-align: right;\n",
       "    }\n",
       "</style>\n",
       "<table border=\"1\" class=\"dataframe\">\n",
       "  <thead>\n",
       "    <tr style=\"text-align: right;\">\n",
       "      <th></th>\n",
       "      <th>Year</th>\n",
       "      <th>Unnamed: 0</th>\n",
       "      <th>Age</th>\n",
       "      <th>ERA</th>\n",
       "      <th>ERA+</th>\n",
       "      <th>K%</th>\n",
       "      <th>BB%</th>\n",
       "    </tr>\n",
       "  </thead>\n",
       "  <tbody>\n",
       "    <tr>\n",
       "      <th>0</th>\n",
       "      <td>2015</td>\n",
       "      <td>4234.953177</td>\n",
       "      <td>28.056856</td>\n",
       "      <td>4.398278</td>\n",
       "      <td>108.919732</td>\n",
       "      <td>0.200978</td>\n",
       "      <td>0.084224</td>\n",
       "    </tr>\n",
       "    <tr>\n",
       "      <th>1</th>\n",
       "      <td>2016</td>\n",
       "      <td>3495.301003</td>\n",
       "      <td>27.884615</td>\n",
       "      <td>4.813110</td>\n",
       "      <td>108.411371</td>\n",
       "      <td>0.207579</td>\n",
       "      <td>0.088719</td>\n",
       "    </tr>\n",
       "  </tbody>\n",
       "</table>\n",
       "</div>"
      ],
      "text/plain": [
       "   Year   Unnamed: 0        Age       ERA        ERA+        K%       BB%\n",
       "0  2015  4234.953177  28.056856  4.398278  108.919732  0.200978  0.084224\n",
       "1  2016  3495.301003  27.884615  4.813110  108.411371  0.207579  0.088719"
      ]
     },
     "execution_count": 21,
     "metadata": {},
     "output_type": "execute_result"
    }
   ],
   "source": [
    "# Grouping League by year to summarize statistical trends\n",
    "league_year_group = league_df.groupby('Year')\n",
    "league_year_mean = league_year_group.mean()\n",
    "league_year_df = pd.DataFrame(league_year_mean)\n",
    "league_year_df = league_year_df.reset_index()\n",
    "league_year_df.head(2)"
   ]
  },
  {
   "cell_type": "code",
   "execution_count": 24,
   "id": "0bf4b07a",
   "metadata": {},
   "outputs": [
    {
     "data": {
      "image/png": "[encoded data removed]",
      "text/plain": [
       "<Figure size 432x288 with 1 Axes>"
      ]
     },
     "metadata": {
      "needs_background": "light"
     },
     "output_type": "display_data"
    }
   ],
   "source": [
    "# Defining stats to include in plot\n",
    "a = 'Year'\n",
    "b = 'ERA+'\n",
    "\n",
    "labels_year = league_year_df[a].tolist()\n",
    "star_ERA = allstar_year_df[b].tolist()\n",
    "league_ERA = league_year_df[b].tolist()\n",
    "\n",
    "\n",
    "x = np.arange(len(labels_year))  # the label locations\n",
    "width = 0.35  # the width of the bars\n",
    "\n",
    "# Building Bar plots of data\n",
    "fig, ax = plt.subplots()\n",
    "rects1 = ax.bar(x - width/2, star_ERA, width, label=f'All Star {b}')\n",
    "rects2 = ax.bar(x + width/2, league_ERA, width, label=f'League {b}')\n",
    "\n",
    "plt.legend()\n",
    "plt.xticks(np.arange(5), labels=labels_year)\n",
    "plt.title(f'All Star vs. League in Average {b} by Year')\n",
    "plt.xlabel(f'{a}')\n",
    "plt.ylabel(f'{b}')\n",
    "plt.ylim((0,200))\n",
    "\n",
    "plt.show()\n",
    "\n",
    "# Commented-out to prevent regenerating file\n",
    "# plt.savefig('Images/Allstar_vs_League_ERA+.png',dpi=400)"
   ]
  },
  {
   "cell_type": "code",
   "execution_count": 25,
   "id": "eab435d5",
   "metadata": {},
   "outputs": [
    {
     "data": {
      "image/png": "[encoded data removed]",
      "text/plain": [
       "<Figure size 432x288 with 1 Axes>"
      ]
     },
     "metadata": {
      "needs_background": "light"
     },
     "output_type": "display_data"
    }
   ],
   "source": [
    "# Defining stats to include in plot\n",
    "a = 'Year'\n",
    "b = 'K%'\n",
    "\n",
    "labels_year = league_year_df[a].tolist()\n",
    "star_K = allstar_year_df[b].tolist()\n",
    "league_K = league_year_df[b].tolist()\n",
    "\n",
    "x = np.arange(len(labels_year))  # the label locations\n",
    "width = 0.35  # the width of the bars\n",
    "\n",
    "fig, ax = plt.subplots()\n",
    "rects1 = ax.bar(x - width/2, star_K, width, label=f'All Star {b}')\n",
    "rects2 = ax.bar(x + width/2, league_K, width, label=f'League {b}')\n",
    "\n",
    "plt.legend()\n",
    "plt.xticks(np.arange(5), labels=labels_year)\n",
    "plt.title(f'All Star vs. League in Average {b} by Year')\n",
    "plt.xlabel(f'{a}')\n",
    "plt.ylabel(f'{b}')\n",
    "plt.ylim((0,0.4))\n",
    "\n",
    "plt.show()\n",
    "\n",
    "# Commented-out to prevent regenerating file\n",
    "# plt.savefig('Images/Allstar_vs_League_K%.png',dpi=400)"
   ]
  },
  {
   "cell_type": "code",
   "execution_count": 26,
   "id": "d0968643",
   "metadata": {},
   "outputs": [
    {
     "data": {
      "image/png": "[encoded data removed]",
      "text/plain": [
       "<Figure size 432x288 with 1 Axes>"
      ]
     },
     "metadata": {
      "needs_background": "light"
     },
     "output_type": "display_data"
    }
   ],
   "source": [
    "# Defining stats to include in plot\n",
    "a = 'Year'\n",
    "b = 'BB%'\n",
    "\n",
    "labels_year = league_year_df[a].tolist()\n",
    "star_BB = allstar_year_df[b].tolist()\n",
    "league_BB = league_year_df[b].tolist()\n",
    "\n",
    "x = np.arange(len(labels_year))  # the label locations\n",
    "width = 0.35  # the width of the bars\n",
    "\n",
    "fig, ax = plt.subplots()\n",
    "rects1 = ax.bar(x - width/2, star_BB, width, label=f'All Star {b}')\n",
    "rects2 = ax.bar(x + width/2, league_BB, width, label=f'League {b}')\n",
    "\n",
    "plt.legend()\n",
    "plt.xticks(np.arange(5), labels=labels_year)\n",
    "plt.title(f'All Star vs. League in Average {b} by Year')\n",
    "plt.xlabel(f'{a}')\n",
    "plt.ylabel(f'{b}')\n",
    "plt.ylim((0,0.4))\n",
    "\n",
    "plt.show()\n",
    "\n",
    "# Commented-out to prevent regenerating file\n",
    "# plt.savefig('Images/Allstar_vs_League_BB%.png',dpi=400)"
   ]
  },
  {
   "cell_type": "code",
   "execution_count": 43,
   "id": "4f8639c2",
   "metadata": {},
   "outputs": [
    {
     "data": {
      "text/plain": [
       "Text(0, 0.5, 'ERA+')"
      ]
     },
     "execution_count": 43,
     "metadata": {},
     "output_type": "execute_result"
    },
    {
     "data": {
      "image/png": "[encoded data removed]",
      "text/plain": [
       "<Figure size 432x288 with 1 Axes>"
      ]
     },
     "metadata": {
      "needs_background": "light"
     },
     "output_type": "display_data"
    }
   ],
   "source": [
    "# Generating box plot of ERA data\n",
    "fig = allstar_df.boxplot(\"ERA+\", by=\"Year\")\n",
    "fig.set_title('')\n",
    "fig.set_ylabel('ERA+')\n",
    "\n",
    "# Commented-out to prevent regenerating file\n",
    "# plt.savefig('Images/Allstar_ERA+_Boxplot.png',dpi=400)"
   ]
  },
  {
   "cell_type": "code",
   "execution_count": 46,
   "id": "e4611198",
   "metadata": {},
   "outputs": [
    {
     "data": {
      "text/html": [
       "<div>\n",
       "<style scoped>\n",
       "    .dataframe tbody tr th:only-of-type {\n",
       "        vertical-align: middle;\n",
       "    }\n",
       "\n",
       "    .dataframe tbody tr th {\n",
       "        vertical-align: top;\n",
       "    }\n",
       "\n",
       "    .dataframe thead th {\n",
       "        text-align: right;\n",
       "    }\n",
       "</style>\n",
       "<table border=\"1\" class=\"dataframe\">\n",
       "  <thead>\n",
       "    <tr style=\"text-align: right;\">\n",
       "      <th></th>\n",
       "      <th>name_display_first_last</th>\n",
       "      <th>weight</th>\n",
       "      <th>height_feet</th>\n",
       "      <th>height_inches</th>\n",
       "      <th>birth_country</th>\n",
       "      <th>birth_state</th>\n",
       "      <th>team_full</th>\n",
       "    </tr>\n",
       "  </thead>\n",
       "  <tbody>\n",
       "    <tr>\n",
       "      <th>0</th>\n",
       "      <td>Shane Bieber</td>\n",
       "      <td>200</td>\n",
       "      <td>6</td>\n",
       "      <td>3</td>\n",
       "      <td>USA</td>\n",
       "      <td>CA</td>\n",
       "      <td>Cleveland Indians</td>\n",
       "    </tr>\n",
       "    <tr>\n",
       "      <th>1</th>\n",
       "      <td>Aroldis Chapman</td>\n",
       "      <td>218</td>\n",
       "      <td>6</td>\n",
       "      <td>4</td>\n",
       "      <td>Cuba</td>\n",
       "      <td>NaN</td>\n",
       "      <td>New York Yankees</td>\n",
       "    </tr>\n",
       "  </tbody>\n",
       "</table>\n",
       "</div>"
      ],
      "text/plain": [
       "  name_display_first_last  weight  height_feet  height_inches birth_country  \\\n",
       "0            Shane Bieber     200            6              3           USA   \n",
       "1         Aroldis Chapman     218            6              4          Cuba   \n",
       "\n",
       "  birth_state          team_full  \n",
       "0          CA  Cleveland Indians  \n",
       "1         NaN   New York Yankees  "
      ]
     },
     "execution_count": 46,
     "metadata": {},
     "output_type": "execute_result"
    }
   ],
   "source": [
    "# Cleaning up 'dimensions_dict.csv' data set to display height and weight\n",
    "dimensions = pd.read_csv(fpath2)\n",
    "dimensions2 = dimensions.iloc[:,[1,2,3,4,5,6,7,11,26,12,14,16]]\n",
    "dimensions3 = dimensions2.iloc[:,[4,2,10,6,1,3,11]]\n",
    "dimensions3.head(2)"
   ]
  },
  {
   "cell_type": "code",
   "execution_count": 48,
   "id": "cbd35659",
   "metadata": {},
   "outputs": [
    {
     "data": {
      "text/html": [
       "<div>\n",
       "<style scoped>\n",
       "    .dataframe tbody tr th:only-of-type {\n",
       "        vertical-align: middle;\n",
       "    }\n",
       "\n",
       "    .dataframe tbody tr th {\n",
       "        vertical-align: top;\n",
       "    }\n",
       "\n",
       "    .dataframe thead th {\n",
       "        text-align: right;\n",
       "    }\n",
       "</style>\n",
       "<table border=\"1\" class=\"dataframe\">\n",
       "  <thead>\n",
       "    <tr style=\"text-align: right;\">\n",
       "      <th></th>\n",
       "      <th>Player Name</th>\n",
       "      <th>weight</th>\n",
       "      <th>height</th>\n",
       "    </tr>\n",
       "  </thead>\n",
       "  <tbody>\n",
       "    <tr>\n",
       "      <th>0</th>\n",
       "      <td>Shane Bieber</td>\n",
       "      <td>200</td>\n",
       "      <td>75</td>\n",
       "    </tr>\n",
       "    <tr>\n",
       "      <th>1</th>\n",
       "      <td>Aroldis Chapman</td>\n",
       "      <td>218</td>\n",
       "      <td>76</td>\n",
       "    </tr>\n",
       "    <tr>\n",
       "      <th>2</th>\n",
       "      <td>Gerrit Cole</td>\n",
       "      <td>220</td>\n",
       "      <td>76</td>\n",
       "    </tr>\n",
       "    <tr>\n",
       "      <th>3</th>\n",
       "      <td>Lucas Giolito</td>\n",
       "      <td>245</td>\n",
       "      <td>78</td>\n",
       "    </tr>\n",
       "    <tr>\n",
       "      <th>4</th>\n",
       "      <td>Shane Greene</td>\n",
       "      <td>200</td>\n",
       "      <td>76</td>\n",
       "    </tr>\n",
       "    <tr>\n",
       "      <th>...</th>\n",
       "      <td>...</td>\n",
       "      <td>...</td>\n",
       "      <td>...</td>\n",
       "    </tr>\n",
       "    <tr>\n",
       "      <th>140</th>\n",
       "      <td>Kelvin Herrera</td>\n",
       "      <td>220</td>\n",
       "      <td>70</td>\n",
       "    </tr>\n",
       "    <tr>\n",
       "      <th>141</th>\n",
       "      <td>Darren O'Day</td>\n",
       "      <td>220</td>\n",
       "      <td>76</td>\n",
       "    </tr>\n",
       "    <tr>\n",
       "      <th>142</th>\n",
       "      <td>David Price</td>\n",
       "      <td>215</td>\n",
       "      <td>77</td>\n",
       "    </tr>\n",
       "    <tr>\n",
       "      <th>143</th>\n",
       "      <td>Chris Sale</td>\n",
       "      <td>183</td>\n",
       "      <td>78</td>\n",
       "    </tr>\n",
       "    <tr>\n",
       "      <th>144</th>\n",
       "      <td>Hector Santiago</td>\n",
       "      <td>215</td>\n",
       "      <td>72</td>\n",
       "    </tr>\n",
       "  </tbody>\n",
       "</table>\n",
       "<p>145 rows × 3 columns</p>\n",
       "</div>"
      ],
      "text/plain": [
       "         Player Name  weight  height\n",
       "0       Shane Bieber     200      75\n",
       "1    Aroldis Chapman     218      76\n",
       "2        Gerrit Cole     220      76\n",
       "3      Lucas Giolito     245      78\n",
       "4       Shane Greene     200      76\n",
       "..               ...     ...     ...\n",
       "140   Kelvin Herrera     220      70\n",
       "141     Darren O'Day     220      76\n",
       "142      David Price     215      77\n",
       "143       Chris Sale     183      78\n",
       "144  Hector Santiago     215      72\n",
       "\n",
       "[145 rows x 3 columns]"
      ]
     },
     "execution_count": 48,
     "metadata": {},
     "output_type": "execute_result"
    }
   ],
   "source": [
    "# Additional cleaning to get height and weight\n",
    "height_df = dimensions3.copy()\n",
    "\n",
    "# Convert height into single dimension (inches)\n",
    "height_df['height'] = height_df['height_feet']*12+height_df['height_inches']\n",
    "height_df = height_df.rename(columns={\"name_display_first_last\": \"Player Name\"})\n",
    "\n",
    "# Filtering out extra columns\n",
    "height_df = height_df.iloc[:,[0,1,7]]\n",
    "height_df"
   ]
  },
  {
   "cell_type": "code",
   "execution_count": 51,
   "id": "fe92611f",
   "metadata": {},
   "outputs": [
    {
     "data": {
      "text/html": [
       "<div>\n",
       "<style scoped>\n",
       "    .dataframe tbody tr th:only-of-type {\n",
       "        vertical-align: middle;\n",
       "    }\n",
       "\n",
       "    .dataframe tbody tr th {\n",
       "        vertical-align: top;\n",
       "    }\n",
       "\n",
       "    .dataframe thead th {\n",
       "        text-align: right;\n",
       "    }\n",
       "</style>\n",
       "<table border=\"1\" class=\"dataframe\">\n",
       "  <thead>\n",
       "    <tr style=\"text-align: right;\">\n",
       "      <th></th>\n",
       "      <th>Player Name</th>\n",
       "      <th>weight</th>\n",
       "      <th>height</th>\n",
       "      <th>Unnamed: 0</th>\n",
       "      <th>Year</th>\n",
       "      <th>Shortname</th>\n",
       "      <th>Age</th>\n",
       "      <th>ERA</th>\n",
       "      <th>ERA+</th>\n",
       "      <th>K%</th>\n",
       "      <th>BB%</th>\n",
       "    </tr>\n",
       "  </thead>\n",
       "  <tbody>\n",
       "    <tr>\n",
       "      <th>0</th>\n",
       "      <td>Shane Bieber</td>\n",
       "      <td>200</td>\n",
       "      <td>75</td>\n",
       "      <td>0.0</td>\n",
       "      <td>2019.0</td>\n",
       "      <td>biebesh01</td>\n",
       "      <td>24.0</td>\n",
       "      <td>3.28</td>\n",
       "      <td>147.0</td>\n",
       "      <td>0.302</td>\n",
       "      <td>0.047</td>\n",
       "    </tr>\n",
       "    <tr>\n",
       "      <th>1</th>\n",
       "      <td>Aroldis Chapman</td>\n",
       "      <td>218</td>\n",
       "      <td>76</td>\n",
       "      <td>1.0</td>\n",
       "      <td>2019.0</td>\n",
       "      <td>chapmar01</td>\n",
       "      <td>31.0</td>\n",
       "      <td>2.21</td>\n",
       "      <td>206.0</td>\n",
       "      <td>0.362</td>\n",
       "      <td>0.106</td>\n",
       "    </tr>\n",
       "  </tbody>\n",
       "</table>\n",
       "</div>"
      ],
      "text/plain": [
       "       Player Name  weight  height  Unnamed: 0    Year  Shortname   Age   ERA  \\\n",
       "0     Shane Bieber     200      75         0.0  2019.0  biebesh01  24.0  3.28   \n",
       "1  Aroldis Chapman     218      76         1.0  2019.0  chapmar01  31.0  2.21   \n",
       "\n",
       "    ERA+     K%    BB%  \n",
       "0  147.0  0.302  0.047  \n",
       "1  206.0  0.362  0.106  "
      ]
     },
     "execution_count": 51,
     "metadata": {},
     "output_type": "execute_result"
    }
   ],
   "source": [
    "# Merging the player dimensions into the allstar dataframe\n",
    "# Cleaning duplicates and NA values\n",
    "merge_dim = pd.merge(height_df,allstar_df,left_on='Player Name', right_on='Player Name',how ='left')\n",
    "merge_dim = merge_dim.drop_duplicates()\n",
    "merge_dim = merge_dim.dropna()\n",
    "merge_dim.head(2)"
   ]
  },
  {
   "cell_type": "code",
   "execution_count": 52,
   "id": "8387be6a",
   "metadata": {},
   "outputs": [
    {
     "data": {
      "text/plain": [
       "Text(72, 250, 'y = -7x + 677.47')"
      ]
     },
     "execution_count": 52,
     "metadata": {},
     "output_type": "execute_result"
    },
    {
     "data": {
      "image/png": "[encoded data removed]",
      "text/plain": [
       "<Figure size 432x288 with 1 Axes>"
      ]
     },
     "metadata": {
      "needs_background": "light"
     },
     "output_type": "display_data"
    }
   ],
   "source": [
    "ht_2019 = merge_dim.loc[merge_dim['Year'] == 2019,:]\n",
    "from scipy.stats import linregress\n",
    "\n",
    "x_values = ht_2019['height']\n",
    "y_values = ht_2019['ERA+']\n",
    "\n",
    "\n",
    "(slope, intercept, rvalue, pvalue, stderr) = linregress(x_values, y_values)\n",
    "regress_values = x_values * slope + intercept\n",
    "line_eq = \"y = \" + str(round(slope)) + \"x + \" + str(round(intercept,2))\n",
    "plt.scatter(x_values,y_values)\n",
    "plt.plot(x_values,regress_values,\"r-\")\n",
    "plt.annotate(line_eq,(72,250),fontsize=15,color=\"red\")\n",
    "\n",
    "# Commented-out to prevent regenerating file\n",
    "# plt.savefig('Images/Allstar_ERA+_Boxplot.png',dpi=400)"
   ]
  },
  {
   "cell_type": "code",
   "execution_count": 53,
   "id": "fdb28f34",
   "metadata": {},
   "outputs": [
    {
     "data": {
      "text/plain": [
       "Text(72, 250, 'y = 2x + 12.94')"
      ]
     },
     "execution_count": 53,
     "metadata": {},
     "output_type": "execute_result"
    },
    {
     "data": {
      "image/png": "[encoded data removed]",
      "text/plain": [
       "<Figure size 432x288 with 1 Axes>"
      ]
     },
     "metadata": {
      "needs_background": "light"
     },
     "output_type": "display_data"
    }
   ],
   "source": [
    "ht_2018 = merge_dim.loc[merge_dim['Year'] == 2018,:]\n",
    "x_values = ht_2018['height']\n",
    "y_values = ht_2018['ERA+']\n",
    "\n",
    "\n",
    "(slope, intercept, rvalue, pvalue, stderr) = linregress(x_values, y_values)\n",
    "regress_values = x_values * slope + intercept\n",
    "line_eq = \"y = \" + str(round(slope)) + \"x + \" + str(round(intercept,2))\n",
    "plt.scatter(x_values,y_values)\n",
    "plt.plot(x_values,regress_values,\"r-\")\n",
    "plt.annotate(line_eq,(72,250),fontsize=15,color=\"red\")\n",
    "\n",
    "# Commented-out to prevent regenerating file\n",
    "# plt.savefig('Images/Allstar_ERA+_Boxplot.png',dpi=400)"
   ]
  },
  {
   "cell_type": "code",
   "execution_count": 54,
   "id": "75c5d62e",
   "metadata": {},
   "outputs": [
    {
     "data": {
      "text/plain": [
       "Text(72, 250, 'y = 8x + -456.63')"
      ]
     },
     "execution_count": 54,
     "metadata": {},
     "output_type": "execute_result"
    },
    {
     "data": {
      "image/png": "[encoded data removed]",
      "text/plain": [
       "<Figure size 432x288 with 1 Axes>"
      ]
     },
     "metadata": {
      "needs_background": "light"
     },
     "output_type": "display_data"
    }
   ],
   "source": [
    "ht_2017 = merge_dim.loc[merge_dim['Year'] == 2017,:]\n",
    "x_values = ht_2017['height']\n",
    "y_values = ht_2017['ERA+']\n",
    "\n",
    "\n",
    "(slope, intercept, rvalue, pvalue, stderr) = linregress(x_values, y_values)\n",
    "regress_values = x_values * slope + intercept\n",
    "line_eq = \"y = \" + str(round(slope)) + \"x + \" + str(round(intercept,2))\n",
    "plt.scatter(x_values,y_values)\n",
    "plt.plot(x_values,regress_values,\"r-\")\n",
    "plt.annotate(line_eq,(72,250),fontsize=15,color=\"red\")\n",
    "\n",
    "# Commented-out to prevent regenerating file\n",
    "# plt.savefig('Images/Allstar_ERA+_Boxplot.png',dpi=400)"
   ]
  },
  {
   "cell_type": "code",
   "execution_count": 55,
   "id": "9de6ef95",
   "metadata": {},
   "outputs": [
    {
     "data": {
      "text/plain": [
       "Text(72, 250, 'y = 1x + 133.32')"
      ]
     },
     "execution_count": 55,
     "metadata": {},
     "output_type": "execute_result"
    },
    {
     "data": {
      "image/png": "[encoded data removed]",
      "text/plain": [
       "<Figure size 432x288 with 1 Axes>"
      ]
     },
     "metadata": {
      "needs_background": "light"
     },
     "output_type": "display_data"
    }
   ],
   "source": [
    "ht_2016 = merge_dim.loc[merge_dim['Year'] == 2016,:]\n",
    "x_values = ht_2016['height']\n",
    "y_values = ht_2016['ERA+']\n",
    "\n",
    "\n",
    "(slope, intercept, rvalue, pvalue, stderr) = linregress(x_values, y_values)\n",
    "regress_values = x_values * slope + intercept\n",
    "line_eq = \"y = \" + str(round(slope)) + \"x + \" + str(round(intercept,2))\n",
    "plt.scatter(x_values,y_values)\n",
    "plt.plot(x_values,regress_values,\"r-\")\n",
    "plt.annotate(line_eq,(72,250),fontsize=15,color=\"red\")\n",
    "\n",
    "# Commented-out to prevent regenerating file\n",
    "# plt.savefig('Images/Allstar_ERA+_Boxplot.png',dpi=400)"
   ]
  },
  {
   "cell_type": "code",
   "execution_count": 56,
   "id": "7518580e",
   "metadata": {},
   "outputs": [
    {
     "data": {
      "text/plain": [
       "Text(72, 250, 'y = 10x + -602.71')"
      ]
     },
     "execution_count": 56,
     "metadata": {},
     "output_type": "execute_result"
    },
    {
     "data": {
      "image/png": "[encoded data removed]",
      "text/plain": [
       "<Figure size 432x288 with 1 Axes>"
      ]
     },
     "metadata": {
      "needs_background": "light"
     },
     "output_type": "display_data"
    }
   ],
   "source": [
    "ht_2015 = merge_dim.loc[merge_dim['Year'] == 2015,:]\n",
    "x_values = ht_2015['height']\n",
    "y_values = ht_2015['ERA+']\n",
    "\n",
    "\n",
    "(slope, intercept, rvalue, pvalue, stderr) = linregress(x_values, y_values)\n",
    "regress_values = x_values * slope + intercept\n",
    "line_eq = \"y = \" + str(round(slope)) + \"x + \" + str(round(intercept,2))\n",
    "plt.scatter(x_values,y_values)\n",
    "plt.plot(x_values,regress_values,\"r-\")\n",
    "plt.annotate(line_eq,(72,250),fontsize=15,color=\"red\")\n",
    "\n",
    "# Commented-out to prevent regenerating file\n",
    "# plt.savefig('Images/Allstar_ERA+_Boxplot.png',dpi=400)"
   ]
  },
  {
   "cell_type": "code",
   "execution_count": null,
   "id": "a7c48769",
   "metadata": {},
   "outputs": [],
   "source": []
  }
 ],
 "metadata": {
  "kernelspec": {
   "display_name": "Python 3",
   "language": "python",
   "name": "python3"
  },
  "language_info": {
   "codemirror_mode": {
    "name": "ipython",
    "version": 3
   },
   "file_extension": ".py",
   "mimetype": "text/x-python",
   "name": "python",
   "nbconvert_exporter": "python",
   "pygments_lexer": "ipython3",
   "version": "3.8.8"
  }
 },
 "nbformat": 4,
 "nbformat_minor": 5
}
