{
 "cells": [
  {
   "cell_type": "markdown",
   "id": "0e488d2a",
   "metadata": {},
   "source": [
    "# Generating Figures"
   ]
  },
  {
   "cell_type": "markdown",
   "id": "b4dfaf08",
   "metadata": {},
   "source": [
    "###### Scope: Our project is to uncover data trends among all star MLB pitchers from 2016-2021. We will examine relationships between their strikeout %, ERA (earned run average) , BB (walk)%, in their all star seasons, as well as some of their physical dimensions and place of birth (state if domestic, country if foreign born)."
   ]
  },
  {
   "cell_type": "code",
   "execution_count": 23,
   "id": "47d513ab",
   "metadata": {},
   "outputs": [],
   "source": [
    "import pandas as pd\n",
    "import requests\n",
    "import json\n",
    "from pprint import pprint\n",
    "import csv\n",
    "from matplotlib import pyplot as plt\n",
    "import numpy as np"
   ]
  },
  {
   "cell_type": "code",
   "execution_count": 98,
   "id": "2270cde2",
   "metadata": {},
   "outputs": [],
   "source": [
    "fpath1 = 'Resources/roster_and_stats_merged.csv'\n",
    "fpath2 = 'Resources/dimensions_dict.csv'\n",
    "\n",
    "allstar_df = pd.read_csv(fpath1)\n",
    "allstar_df\n",
    "\n",
    "league_df = pd.read_csv(fpath2)\n",
    "league_df\n",
    "\n",
    "# Grabbing csv data generated in 'Cleaning DataFrames.ipynb'\n",
    "stats_df = pd.read_csv(fpath1,index_col=0)\n",
    "players_df = pd.read_csv(fpath2,index_col=0)\n"
   ]
  },
  {
   "cell_type": "code",
   "execution_count": 99,
   "id": "fa5f2ba8",
   "metadata": {},
   "outputs": [
    {
     "data": {
      "text/html": [
       "<div>\n",
       "<style scoped>\n",
       "    .dataframe tbody tr th:only-of-type {\n",
       "        vertical-align: middle;\n",
       "    }\n",
       "\n",
       "    .dataframe tbody tr th {\n",
       "        vertical-align: top;\n",
       "    }\n",
       "\n",
       "    .dataframe thead th {\n",
       "        text-align: right;\n",
       "    }\n",
       "</style>\n",
       "<table border=\"1\" class=\"dataframe\">\n",
       "  <thead>\n",
       "    <tr style=\"text-align: right;\">\n",
       "      <th></th>\n",
       "      <th>Year</th>\n",
       "      <th>Player Name</th>\n",
       "      <th>Shortname</th>\n",
       "      <th>Age</th>\n",
       "      <th>ERA</th>\n",
       "      <th>ERA+</th>\n",
       "      <th>K%</th>\n",
       "      <th>BB%</th>\n",
       "    </tr>\n",
       "  </thead>\n",
       "  <tbody>\n",
       "    <tr>\n",
       "      <th>0</th>\n",
       "      <td>2019</td>\n",
       "      <td>Shane Bieber</td>\n",
       "      <td>biebesh01</td>\n",
       "      <td>24.0</td>\n",
       "      <td>3.28</td>\n",
       "      <td>147.0</td>\n",
       "      <td>0.302</td>\n",
       "      <td>0.047</td>\n",
       "    </tr>\n",
       "    <tr>\n",
       "      <th>1</th>\n",
       "      <td>2019</td>\n",
       "      <td>Aroldis Chapman</td>\n",
       "      <td>chapmar01</td>\n",
       "      <td>31.0</td>\n",
       "      <td>2.21</td>\n",
       "      <td>206.0</td>\n",
       "      <td>0.362</td>\n",
       "      <td>0.106</td>\n",
       "    </tr>\n",
       "    <tr>\n",
       "      <th>2</th>\n",
       "      <td>2019</td>\n",
       "      <td>Gerrit Cole</td>\n",
       "      <td>colege01</td>\n",
       "      <td>28.0</td>\n",
       "      <td>2.50</td>\n",
       "      <td>185.0</td>\n",
       "      <td>0.399</td>\n",
       "      <td>0.059</td>\n",
       "    </tr>\n",
       "    <tr>\n",
       "      <th>3</th>\n",
       "      <td>2019</td>\n",
       "      <td>Lucas Giolito</td>\n",
       "      <td>giolilu01</td>\n",
       "      <td>24.0</td>\n",
       "      <td>3.41</td>\n",
       "      <td>134.0</td>\n",
       "      <td>0.323</td>\n",
       "      <td>0.081</td>\n",
       "    </tr>\n",
       "    <tr>\n",
       "      <th>4</th>\n",
       "      <td>2019</td>\n",
       "      <td>Shane Greene</td>\n",
       "      <td>greensh02</td>\n",
       "      <td>30.0</td>\n",
       "      <td>2.30</td>\n",
       "      <td>207.0</td>\n",
       "      <td>0.254</td>\n",
       "      <td>0.068</td>\n",
       "    </tr>\n",
       "  </tbody>\n",
       "</table>\n",
       "</div>"
      ],
      "text/plain": [
       "   Year      Player Name  Shortname   Age   ERA   ERA+     K%    BB%\n",
       "0  2019     Shane Bieber  biebesh01  24.0  3.28  147.0  0.302  0.047\n",
       "1  2019  Aroldis Chapman  chapmar01  31.0  2.21  206.0  0.362  0.106\n",
       "2  2019      Gerrit Cole   colege01  28.0  2.50  185.0  0.399  0.059\n",
       "3  2019    Lucas Giolito  giolilu01  24.0  3.41  134.0  0.323  0.081\n",
       "4  2019     Shane Greene  greensh02  30.0  2.30  207.0  0.254  0.068"
      ]
     },
     "execution_count": 99,
     "metadata": {},
     "output_type": "execute_result"
    }
   ],
   "source": [
    "stats_df.head()"
   ]
  },
  {
   "cell_type": "code",
   "execution_count": 100,
   "id": "15d6008a",
   "metadata": {},
   "outputs": [
    {
     "data": {
      "text/html": [
       "<div>\n",
       "<style scoped>\n",
       "    .dataframe tbody tr th:only-of-type {\n",
       "        vertical-align: middle;\n",
       "    }\n",
       "\n",
       "    .dataframe tbody tr th {\n",
       "        vertical-align: top;\n",
       "    }\n",
       "\n",
       "    .dataframe thead th {\n",
       "        text-align: right;\n",
       "    }\n",
       "</style>\n",
       "<table border=\"1\" class=\"dataframe\">\n",
       "  <thead>\n",
       "    <tr style=\"text-align: right;\">\n",
       "      <th></th>\n",
       "      <th>position</th>\n",
       "      <th>birth_country</th>\n",
       "      <th>weight</th>\n",
       "      <th>birth_state</th>\n",
       "      <th>name_display_first_last</th>\n",
       "      <th>college</th>\n",
       "      <th>height_inches</th>\n",
       "      <th>name_display_roster</th>\n",
       "      <th>sport_code</th>\n",
       "      <th>bats</th>\n",
       "      <th>...</th>\n",
       "      <th>league</th>\n",
       "      <th>name_display_last_first</th>\n",
       "      <th>position_id</th>\n",
       "      <th>high_school</th>\n",
       "      <th>name_use</th>\n",
       "      <th>player_id</th>\n",
       "      <th>name_last</th>\n",
       "      <th>team_id</th>\n",
       "      <th>service_years</th>\n",
       "      <th>active_sw</th>\n",
       "    </tr>\n",
       "  </thead>\n",
       "  <tbody>\n",
       "    <tr>\n",
       "      <th>0</th>\n",
       "      <td>P</td>\n",
       "      <td>USA</td>\n",
       "      <td>200</td>\n",
       "      <td>CA</td>\n",
       "      <td>Shane Bieber</td>\n",
       "      <td>UC Santa Barbara</td>\n",
       "      <td>3</td>\n",
       "      <td>Bieber</td>\n",
       "      <td>mlb</td>\n",
       "      <td>R</td>\n",
       "      <td>...</td>\n",
       "      <td>AL</td>\n",
       "      <td>Bieber, Shane</td>\n",
       "      <td>1</td>\n",
       "      <td>Laguna Hills, CA</td>\n",
       "      <td>Shane</td>\n",
       "      <td>669456</td>\n",
       "      <td>Bieber</td>\n",
       "      <td>114</td>\n",
       "      <td>NaN</td>\n",
       "      <td>Y</td>\n",
       "    </tr>\n",
       "    <tr>\n",
       "      <th>1</th>\n",
       "      <td>P</td>\n",
       "      <td>Cuba</td>\n",
       "      <td>218</td>\n",
       "      <td>NaN</td>\n",
       "      <td>Aroldis Chapman</td>\n",
       "      <td>NaN</td>\n",
       "      <td>4</td>\n",
       "      <td>Chapman, A</td>\n",
       "      <td>mlb</td>\n",
       "      <td>L</td>\n",
       "      <td>...</td>\n",
       "      <td>AL</td>\n",
       "      <td>Chapman, Aroldis</td>\n",
       "      <td>1</td>\n",
       "      <td>NaN</td>\n",
       "      <td>Aroldis</td>\n",
       "      <td>547973</td>\n",
       "      <td>Chapman</td>\n",
       "      <td>147</td>\n",
       "      <td>NaN</td>\n",
       "      <td>Y</td>\n",
       "    </tr>\n",
       "  </tbody>\n",
       "</table>\n",
       "<p>2 rows × 29 columns</p>\n",
       "</div>"
      ],
      "text/plain": [
       "  position birth_country  weight birth_state name_display_first_last  \\\n",
       "0        P           USA     200          CA            Shane Bieber   \n",
       "1        P          Cuba     218         NaN         Aroldis Chapman   \n",
       "\n",
       "            college  height_inches name_display_roster sport_code bats  ...  \\\n",
       "0  UC Santa Barbara              3              Bieber        mlb    R  ...   \n",
       "1               NaN              4          Chapman, A        mlb    L  ...   \n",
       "\n",
       "  league name_display_last_first position_id       high_school name_use  \\\n",
       "0     AL           Bieber, Shane           1  Laguna Hills, CA    Shane   \n",
       "1     AL        Chapman, Aroldis           1               NaN  Aroldis   \n",
       "\n",
       "  player_id name_last team_id service_years active_sw  \n",
       "0    669456    Bieber     114           NaN         Y  \n",
       "1    547973   Chapman     147           NaN         Y  \n",
       "\n",
       "[2 rows x 29 columns]"
      ]
     },
     "execution_count": 100,
     "metadata": {},
     "output_type": "execute_result"
    }
   ],
   "source": [
    "players_df = players_df.replace({'Dominican Republic':'Dom. Rep.'})\n",
    "players_df.head(2)"
   ]
  },
  {
   "cell_type": "code",
   "execution_count": 286,
   "id": "db4897d2",
   "metadata": {},
   "outputs": [
    {
     "data": {
      "image/png": "[encoded data removed]",
      "text/plain": [
       "<Figure size 360x360 with 1 Axes>"
      ]
     },
     "metadata": {
      "needs_background": "light"
     },
     "output_type": "display_data"
    }
   ],
   "source": [
    "# Creating group based on country\n",
    "country_grp = players_df.groupby(['birth_country'])['birth_country'].count()\n",
    "\n",
    "# Plot Country group data\n",
    "title = 'All Star Players by Birth Country'\n",
    "subtitle = '2015-2019'\n",
    "\n",
    "country_grp.plot(kind='bar',title=subtitle, figsize=(5,5),\n",
    "                 xlabel='Country',ylabel='Number of Players',rot=50)\n",
    "plt.suptitle(title)\n",
    "plt.tight_layout()\n",
    "\n",
    "\n",
    "# Commented-out to prevent regenerating file\n",
    "plt.savefig(f'Images/{title}.png')"
   ]
  },
  {
   "cell_type": "code",
   "execution_count": 327,
   "id": "56fe8e54",
   "metadata": {},
   "outputs": [
    {
     "data": {
      "image/png": "[encoded data removed]",
      "text/plain": [
       "<Figure size 360x360 with 1 Axes>"
      ]
     },
     "metadata": {
      "needs_background": "light"
     },
     "output_type": "display_data"
    }
   ],
   "source": [
    "# Creating group based on (non-US) country\n",
    "country_grp2 = country_grp[country_grp.index != 'USA']\n",
    "\n",
    "# Filtering for non USA born players\n",
    "as_us = players_df[players_df['birth_country']=='USA']\n",
    "state_grp = as_us.groupby([\"birth_state\"])['birth_state'].count()\n",
    "\n",
    "# Building sortable dataframe for state group\n",
    "df = pd.DataFrame(country_grp2)\n",
    "df2 = df.rename(columns={\"birth_country\": \"num\"}).sort_values(\n",
    "    by=['num'], axis=0, ascending= False)\n",
    "\n",
    "# Plot Country group data\n",
    "title = 'All Star Players by (non-USA) Birth Country'\n",
    "subtitle = '2015-2019'\n",
    "\n",
    "df2.plot(kind='bar',title=subtitle, figsize=(5,5),\n",
    "                 xlabel='Country',ylabel='Number of Players',rot=50)\n",
    "plt.suptitle(title)\n",
    "plt.tight_layout()\n",
    "plt.legend().remove()\n",
    "\n",
    "# Commented-out to prevent regenerating file\n",
    "plt.savefig(f'Images/{title}.png')"
   ]
  },
  {
   "cell_type": "code",
   "execution_count": 316,
   "id": "9088e88c",
   "metadata": {},
   "outputs": [
    {
     "data": {
      "image/png": "[encoded data removed]",
      "text/plain": [
       "<Figure size 360x360 with 1 Axes>"
      ]
     },
     "metadata": {
      "needs_background": "light"
     },
     "output_type": "display_data"
    },
    {
     "data": {
      "text/plain": [
       "<Figure size 360x360 with 0 Axes>"
      ]
     },
     "metadata": {},
     "output_type": "display_data"
    }
   ],
   "source": [
    "# Creating US and non-US groups\n",
    "country_df = pd.DataFrame(country_grp)\n",
    "non_s = country_df.loc[country_df.index != 'USA'].sum()\n",
    "non = int(non_s['birth_country'])\n",
    "\n",
    "usa_s = country_df.loc[country_df.index == 'USA'].sum()\n",
    "usa = int(usa_s['birth_country'])\n",
    "\n",
    "\n",
    "# Plot Country group data\n",
    "labels = ['Non-USA','USA']\n",
    "xvals = range(len(labels))\n",
    "\n",
    "fig=plt.figure(figsize=(5,5))\n",
    "plt.bar(xvals[0], non, width=0.1, label=\"Non-USA\")\n",
    "plt.bar(xvals[1], usa, width=0.1, label = \"USA\")\n",
    "plt.legend()\n",
    "\n",
    "plt.xticks(xvals, labels=labels)\n",
    "title = 'Non-US vs. USA-borne All Star Players'\n",
    "subtitle = '2015-2019'\n",
    "plt.title(subtitle)\n",
    "plt.suptitle(title)\n",
    "plt.ylabel('Number of Players')\n",
    "\n",
    "plt.figure(figsize=(5,5))\n",
    "plt.tight_layout()\n",
    "\n",
    "# Commented-out to prevent regenerating file\n",
    "fig.savefig(f'Images/{title}.png')"
   ]
  },
  {
   "cell_type": "code",
   "execution_count": 330,
   "id": "0cd28c74",
   "metadata": {},
   "outputs": [
    {
     "data": {
      "image/png": "[encoded data removed]",
      "text/plain": [
       "<Figure size 432x288 with 1 Axes>"
      ]
     },
     "metadata": {
      "needs_background": "light"
     },
     "output_type": "display_data"
    }
   ],
   "source": [
    "# Filtering for USA born players, and grouping by state\n",
    "as_us = players_df[players_df['birth_country']=='USA']\n",
    "state_grp = as_us.groupby([\"birth_state\"])['birth_state'].count()\n",
    "\n",
    "# Building sortable dataframe for state group\n",
    "df = pd.DataFrame(state_grp)\n",
    "df2 = df.rename(columns={\"birth_state\": \"num\"}).sort_values(\n",
    "    by=['num'], axis=0, ascending= False)\n",
    "\n",
    "# Plot State data\n",
    "\n",
    "title = 'All Star Players by Birth State'\n",
    "subtitle = '2015-2019'\n",
    "\n",
    "df2.plot(kind='bar',title=subtitle, color='orange',\n",
    "                 xlabel='State',ylabel='Number of Players',rot=50)\n",
    "plt.suptitle(title)\n",
    "plt.tight_layout()\n",
    "plt.legend().remove()\n",
    "# Commented-out to prevent regenerating file\n",
    "plt.savefig(f'Images/{title}.png')"
   ]
  },
  {
   "cell_type": "code",
   "execution_count": 256,
   "id": "ed082378",
   "metadata": {},
   "outputs": [
    {
     "data": {
      "image/png": "[encoded data removed]",
      "text/plain": [
       "<Figure size 432x288 with 1 Axes>"
      ]
     },
     "metadata": {
      "needs_background": "light"
     },
     "output_type": "display_data"
    }
   ],
   "source": [
    "# Merge player dimensions into statistic dataframe\n",
    "by_weight = pd.merge(players_df,stats_df,how='left',left_on='name_display_first_last',right_on='Player Name')\n",
    "\n",
    "# Plot ERA+ against weight\n",
    "title = 'All Star Players ERA+ vs. Weight'\n",
    "subtitle = '2015-2019'\n",
    "\n",
    "by_weight.plot('weight','ERA+',kind='scatter', title=subtitle,\n",
    "               rot=45,xlabel='Weight')\n",
    "plt.suptitle(title)\n",
    "\n",
    "# Commented-out to prevent regenerating file\n",
    "plt.savefig(f'Images/{title}.png')\n"
   ]
  },
  {
   "cell_type": "markdown",
   "id": "33e2ccde",
   "metadata": {},
   "source": [
    "Part 2"
   ]
  },
  {
   "cell_type": "code",
   "execution_count": 14,
   "id": "4cb2d756",
   "metadata": {},
   "outputs": [],
   "source": [
    "fpath3 = 'Resources/league_stats.csv'"
   ]
  },
  {
   "cell_type": "code",
   "execution_count": 16,
   "id": "a21e0ddd",
   "metadata": {},
   "outputs": [],
   "source": [
    "# Generating allstar dataframe\n",
    "allstar_df = pd.read_csv(fpath1)\n",
    "\n",
    "# Generating league-wide dataframe\n",
    "league_df = pd.read_csv(fpath3)"
   ]
  },
  {
   "cell_type": "code",
   "execution_count": 197,
   "id": "2f6b53ea",
   "metadata": {},
   "outputs": [
    {
     "data": {
      "text/html": [
       "<div>\n",
       "<style scoped>\n",
       "    .dataframe tbody tr th:only-of-type {\n",
       "        vertical-align: middle;\n",
       "    }\n",
       "\n",
       "    .dataframe tbody tr th {\n",
       "        vertical-align: top;\n",
       "    }\n",
       "\n",
       "    .dataframe thead th {\n",
       "        text-align: right;\n",
       "    }\n",
       "</style>\n",
       "<table border=\"1\" class=\"dataframe\">\n",
       "  <thead>\n",
       "    <tr style=\"text-align: right;\">\n",
       "      <th></th>\n",
       "      <th>Unnamed: 0</th>\n",
       "      <th>Year</th>\n",
       "      <th>Player Name</th>\n",
       "      <th>Shortname</th>\n",
       "      <th>Age</th>\n",
       "      <th>ERA</th>\n",
       "      <th>ERA+</th>\n",
       "      <th>K%</th>\n",
       "      <th>BB%</th>\n",
       "    </tr>\n",
       "  </thead>\n",
       "  <tbody>\n",
       "    <tr>\n",
       "      <th>0</th>\n",
       "      <td>0</td>\n",
       "      <td>2019</td>\n",
       "      <td>Shane Bieber</td>\n",
       "      <td>biebesh01</td>\n",
       "      <td>24.0</td>\n",
       "      <td>3.28</td>\n",
       "      <td>147.0</td>\n",
       "      <td>0.302</td>\n",
       "      <td>0.047</td>\n",
       "    </tr>\n",
       "    <tr>\n",
       "      <th>1</th>\n",
       "      <td>1</td>\n",
       "      <td>2019</td>\n",
       "      <td>Aroldis Chapman</td>\n",
       "      <td>chapmar01</td>\n",
       "      <td>31.0</td>\n",
       "      <td>2.21</td>\n",
       "      <td>206.0</td>\n",
       "      <td>0.362</td>\n",
       "      <td>0.106</td>\n",
       "    </tr>\n",
       "  </tbody>\n",
       "</table>\n",
       "</div>"
      ],
      "text/plain": [
       "   Unnamed: 0  Year      Player Name  Shortname   Age   ERA   ERA+     K%  \\\n",
       "0           0  2019     Shane Bieber  biebesh01  24.0  3.28  147.0  0.302   \n",
       "1           1  2019  Aroldis Chapman  chapmar01  31.0  2.21  206.0  0.362   \n",
       "\n",
       "     BB%  \n",
       "0  0.047  \n",
       "1  0.106  "
      ]
     },
     "execution_count": 197,
     "metadata": {},
     "output_type": "execute_result"
    }
   ],
   "source": [
    "allstar_df.head(2)"
   ]
  },
  {
   "cell_type": "code",
   "execution_count": 198,
   "id": "5976ef5a",
   "metadata": {},
   "outputs": [
    {
     "data": {
      "text/html": [
       "<div>\n",
       "<style scoped>\n",
       "    .dataframe tbody tr th:only-of-type {\n",
       "        vertical-align: middle;\n",
       "    }\n",
       "\n",
       "    .dataframe tbody tr th {\n",
       "        vertical-align: top;\n",
       "    }\n",
       "\n",
       "    .dataframe thead th {\n",
       "        text-align: right;\n",
       "    }\n",
       "</style>\n",
       "<table border=\"1\" class=\"dataframe\">\n",
       "  <thead>\n",
       "    <tr style=\"text-align: right;\">\n",
       "      <th></th>\n",
       "      <th>Unnamed: 0</th>\n",
       "      <th>position</th>\n",
       "      <th>birth_country</th>\n",
       "      <th>weight</th>\n",
       "      <th>birth_state</th>\n",
       "      <th>name_display_first_last</th>\n",
       "      <th>college</th>\n",
       "      <th>height_inches</th>\n",
       "      <th>name_display_roster</th>\n",
       "      <th>sport_code</th>\n",
       "      <th>...</th>\n",
       "      <th>league</th>\n",
       "      <th>name_display_last_first</th>\n",
       "      <th>position_id</th>\n",
       "      <th>high_school</th>\n",
       "      <th>name_use</th>\n",
       "      <th>player_id</th>\n",
       "      <th>name_last</th>\n",
       "      <th>team_id</th>\n",
       "      <th>service_years</th>\n",
       "      <th>active_sw</th>\n",
       "    </tr>\n",
       "  </thead>\n",
       "  <tbody>\n",
       "    <tr>\n",
       "      <th>0</th>\n",
       "      <td>0</td>\n",
       "      <td>P</td>\n",
       "      <td>USA</td>\n",
       "      <td>200</td>\n",
       "      <td>CA</td>\n",
       "      <td>Shane Bieber</td>\n",
       "      <td>UC Santa Barbara</td>\n",
       "      <td>3</td>\n",
       "      <td>Bieber</td>\n",
       "      <td>mlb</td>\n",
       "      <td>...</td>\n",
       "      <td>AL</td>\n",
       "      <td>Bieber, Shane</td>\n",
       "      <td>1</td>\n",
       "      <td>Laguna Hills, CA</td>\n",
       "      <td>Shane</td>\n",
       "      <td>669456</td>\n",
       "      <td>Bieber</td>\n",
       "      <td>114</td>\n",
       "      <td>NaN</td>\n",
       "      <td>Y</td>\n",
       "    </tr>\n",
       "    <tr>\n",
       "      <th>1</th>\n",
       "      <td>1</td>\n",
       "      <td>P</td>\n",
       "      <td>Cuba</td>\n",
       "      <td>218</td>\n",
       "      <td>NaN</td>\n",
       "      <td>Aroldis Chapman</td>\n",
       "      <td>NaN</td>\n",
       "      <td>4</td>\n",
       "      <td>Chapman, A</td>\n",
       "      <td>mlb</td>\n",
       "      <td>...</td>\n",
       "      <td>AL</td>\n",
       "      <td>Chapman, Aroldis</td>\n",
       "      <td>1</td>\n",
       "      <td>NaN</td>\n",
       "      <td>Aroldis</td>\n",
       "      <td>547973</td>\n",
       "      <td>Chapman</td>\n",
       "      <td>147</td>\n",
       "      <td>NaN</td>\n",
       "      <td>Y</td>\n",
       "    </tr>\n",
       "  </tbody>\n",
       "</table>\n",
       "<p>2 rows × 30 columns</p>\n",
       "</div>"
      ],
      "text/plain": [
       "   Unnamed: 0 position birth_country  weight birth_state  \\\n",
       "0           0        P           USA     200          CA   \n",
       "1           1        P          Cuba     218         NaN   \n",
       "\n",
       "  name_display_first_last           college  height_inches  \\\n",
       "0            Shane Bieber  UC Santa Barbara              3   \n",
       "1         Aroldis Chapman               NaN              4   \n",
       "\n",
       "  name_display_roster sport_code  ... league name_display_last_first  \\\n",
       "0              Bieber        mlb  ...     AL           Bieber, Shane   \n",
       "1          Chapman, A        mlb  ...     AL        Chapman, Aroldis   \n",
       "\n",
       "  position_id       high_school  name_use player_id name_last team_id  \\\n",
       "0           1  Laguna Hills, CA     Shane    669456    Bieber     114   \n",
       "1           1               NaN   Aroldis    547973   Chapman     147   \n",
       "\n",
       "  service_years active_sw  \n",
       "0           NaN         Y  \n",
       "1           NaN         Y  \n",
       "\n",
       "[2 rows x 30 columns]"
      ]
     },
     "execution_count": 198,
     "metadata": {},
     "output_type": "execute_result"
    }
   ],
   "source": [
    "league_df.head(2)"
   ]
  },
  {
   "cell_type": "code",
   "execution_count": 19,
   "id": "47b1fc95",
   "metadata": {},
   "outputs": [
    {
     "data": {
      "text/html": [
       "<div>\n",
       "<style scoped>\n",
       "    .dataframe tbody tr th:only-of-type {\n",
       "        vertical-align: middle;\n",
       "    }\n",
       "\n",
       "    .dataframe tbody tr th {\n",
       "        vertical-align: top;\n",
       "    }\n",
       "\n",
       "    .dataframe thead th {\n",
       "        text-align: right;\n",
       "    }\n",
       "</style>\n",
       "<table border=\"1\" class=\"dataframe\">\n",
       "  <thead>\n",
       "    <tr style=\"text-align: right;\">\n",
       "      <th></th>\n",
       "      <th>Year</th>\n",
       "      <th>Unnamed: 0</th>\n",
       "      <th>Age</th>\n",
       "      <th>ERA</th>\n",
       "      <th>ERA+</th>\n",
       "      <th>K%</th>\n",
       "      <th>BB%</th>\n",
       "    </tr>\n",
       "  </thead>\n",
       "  <tbody>\n",
       "    <tr>\n",
       "      <th>0</th>\n",
       "      <td>2015</td>\n",
       "      <td>137.0</td>\n",
       "      <td>28.000000</td>\n",
       "      <td>2.558929</td>\n",
       "      <td>171.464286</td>\n",
       "      <td>0.266857</td>\n",
       "      <td>0.068929</td>\n",
       "    </tr>\n",
       "    <tr>\n",
       "      <th>1</th>\n",
       "      <td>2016</td>\n",
       "      <td>105.5</td>\n",
       "      <td>28.970588</td>\n",
       "      <td>2.735000</td>\n",
       "      <td>178.176471</td>\n",
       "      <td>0.279765</td>\n",
       "      <td>0.073353</td>\n",
       "    </tr>\n",
       "  </tbody>\n",
       "</table>\n",
       "</div>"
      ],
      "text/plain": [
       "   Year  Unnamed: 0        Age       ERA        ERA+        K%       BB%\n",
       "0  2015       137.0  28.000000  2.558929  171.464286  0.266857  0.068929\n",
       "1  2016       105.5  28.970588  2.735000  178.176471  0.279765  0.073353"
      ]
     },
     "execution_count": 19,
     "metadata": {},
     "output_type": "execute_result"
    }
   ],
   "source": [
    "# Grouping All-Stars by year to summarize statistical trends\n",
    "allstar_year_group = allstar_df.groupby('Year')\n",
    "allstar_year_mean = allstar_year_group.mean()\n",
    "allstar_year_df = pd.DataFrame(allstar_year_mean)\n",
    "allstar_year_df = allstar_year_df.reset_index()\n",
    "allstar_year_df.head(2)"
   ]
  },
  {
   "cell_type": "code",
   "execution_count": 21,
   "id": "74e500e6",
   "metadata": {},
   "outputs": [
    {
     "data": {
      "text/html": [
       "<div>\n",
       "<style scoped>\n",
       "    .dataframe tbody tr th:only-of-type {\n",
       "        vertical-align: middle;\n",
       "    }\n",
       "\n",
       "    .dataframe tbody tr th {\n",
       "        vertical-align: top;\n",
       "    }\n",
       "\n",
       "    .dataframe thead th {\n",
       "        text-align: right;\n",
       "    }\n",
       "</style>\n",
       "<table border=\"1\" class=\"dataframe\">\n",
       "  <thead>\n",
       "    <tr style=\"text-align: right;\">\n",
       "      <th></th>\n",
       "      <th>Year</th>\n",
       "      <th>Unnamed: 0</th>\n",
       "      <th>Age</th>\n",
       "      <th>ERA</th>\n",
       "      <th>ERA+</th>\n",
       "      <th>K%</th>\n",
       "      <th>BB%</th>\n",
       "    </tr>\n",
       "  </thead>\n",
       "  <tbody>\n",
       "    <tr>\n",
       "      <th>0</th>\n",
       "      <td>2015</td>\n",
       "      <td>4234.953177</td>\n",
       "      <td>28.056856</td>\n",
       "      <td>4.398278</td>\n",
       "      <td>108.919732</td>\n",
       "      <td>0.200978</td>\n",
       "      <td>0.084224</td>\n",
       "    </tr>\n",
       "    <tr>\n",
       "      <th>1</th>\n",
       "      <td>2016</td>\n",
       "      <td>3495.301003</td>\n",
       "      <td>27.884615</td>\n",
       "      <td>4.813110</td>\n",
       "      <td>108.411371</td>\n",
       "      <td>0.207579</td>\n",
       "      <td>0.088719</td>\n",
       "    </tr>\n",
       "  </tbody>\n",
       "</table>\n",
       "</div>"
      ],
      "text/plain": [
       "   Year   Unnamed: 0        Age       ERA        ERA+        K%       BB%\n",
       "0  2015  4234.953177  28.056856  4.398278  108.919732  0.200978  0.084224\n",
       "1  2016  3495.301003  27.884615  4.813110  108.411371  0.207579  0.088719"
      ]
     },
     "execution_count": 21,
     "metadata": {},
     "output_type": "execute_result"
    }
   ],
   "source": [
    "# Grouping League by year to summarize statistical trends\n",
    "league_year_group = league_df.groupby('Year')\n",
    "league_year_mean = league_year_group.mean()\n",
    "league_year_df = pd.DataFrame(league_year_mean)\n",
    "league_year_df = league_year_df.reset_index()\n",
    "league_year_df.head(2)"
   ]
  },
  {
   "cell_type": "code",
   "execution_count": 257,
   "id": "0bf4b07a",
   "metadata": {},
   "outputs": [
    {
     "data": {
      "image/png": "[encoded data removed]",
      "text/plain": [
       "<Figure size 432x288 with 1 Axes>"
      ]
     },
     "metadata": {
      "needs_background": "light"
     },
     "output_type": "display_data"
    },
    {
     "data": {
      "text/plain": [
       "<Figure size 432x288 with 0 Axes>"
      ]
     },
     "metadata": {},
     "output_type": "display_data"
    }
   ],
   "source": [
    "# Defining stats to include in plot\n",
    "a = 'Year'\n",
    "b = 'ERA+'\n",
    "\n",
    "labels_year = league_year_df[a].tolist()\n",
    "star_ERA = allstar_year_df[b].tolist()\n",
    "league_ERA = league_year_df[b].tolist()\n",
    "\n",
    "\n",
    "x = np.arange(len(labels_year))  # the label locations\n",
    "width = 0.35  # the width of the bars\n",
    "\n",
    "# Building Bar plots of data\n",
    "fig, ax = plt.subplots()\n",
    "rects1 = ax.bar(x - width/2, star_ERA, width, label=f'All Star {b}')\n",
    "rects2 = ax.bar(x + width/2, league_ERA, width, label=f'League {b}')\n",
    "\n",
    "plt.legend()\n",
    "plt.xticks(np.arange(5), labels=labels_year)\n",
    "plt.title(f'All Star vs. League in Average {b} by Year')\n",
    "plt.xlabel(f'{a}')\n",
    "plt.ylabel(f'{b}')\n",
    "plt.ylim((0,200))\n",
    "\n",
    "plt.show()\n",
    "\n",
    "# Commented-out to prevent regenerating file\n",
    "plt.savefig('Images/Allstar_vs_League_ERA+.png',dpi=400)"
   ]
  },
  {
   "cell_type": "code",
   "execution_count": 258,
   "id": "eab435d5",
   "metadata": {},
   "outputs": [
    {
     "data": {
      "image/png": "[encoded data removed]",
      "text/plain": [
       "<Figure size 432x288 with 1 Axes>"
      ]
     },
     "metadata": {
      "needs_background": "light"
     },
     "output_type": "display_data"
    },
    {
     "data": {
      "text/plain": [
       "<Figure size 432x288 with 0 Axes>"
      ]
     },
     "metadata": {},
     "output_type": "display_data"
    }
   ],
   "source": [
    "# Defining stats to include in plot\n",
    "a = 'Year'\n",
    "b = 'K%'\n",
    "\n",
    "labels_year = league_year_df[a].tolist()\n",
    "star_K = allstar_year_df[b].tolist()\n",
    "league_K = league_year_df[b].tolist()\n",
    "\n",
    "x = np.arange(len(labels_year))  # the label locations\n",
    "width = 0.35  # the width of the bars\n",
    "\n",
    "fig, ax = plt.subplots()\n",
    "rects1 = ax.bar(x - width/2, star_K, width, label=f'All Star {b}')\n",
    "rects2 = ax.bar(x + width/2, league_K, width, label=f'League {b}')\n",
    "\n",
    "plt.legend()\n",
    "plt.xticks(np.arange(5), labels=labels_year)\n",
    "plt.title(f'All Star vs. League in Average {b} by Year')\n",
    "plt.xlabel(f'{a}')\n",
    "plt.ylabel(f'{b}')\n",
    "plt.ylim((0,0.4))\n",
    "\n",
    "plt.show()\n",
    "\n",
    "# Commented-out to prevent regenerating file\n",
    "plt.savefig('Images/Allstar_vs_League_K%.png',dpi=400)"
   ]
  },
  {
   "cell_type": "code",
   "execution_count": 259,
   "id": "d0968643",
   "metadata": {},
   "outputs": [
    {
     "data": {
      "image/png": "[encoded data removed]",
      "text/plain": [
       "<Figure size 432x288 with 1 Axes>"
      ]
     },
     "metadata": {
      "needs_background": "light"
     },
     "output_type": "display_data"
    },
    {
     "data": {
      "text/plain": [
       "<Figure size 432x288 with 0 Axes>"
      ]
     },
     "metadata": {},
     "output_type": "display_data"
    }
   ],
   "source": [
    "# Defining stats to include in plot\n",
    "a = 'Year'\n",
    "b = 'BB%'\n",
    "\n",
    "labels_year = league_year_df[a].tolist()\n",
    "star_BB = allstar_year_df[b].tolist()\n",
    "league_BB = league_year_df[b].tolist()\n",
    "\n",
    "x = np.arange(len(labels_year))  # the label locations\n",
    "width = 0.35  # the width of the bars\n",
    "\n",
    "fig, ax = plt.subplots()\n",
    "rects1 = ax.bar(x - width/2, star_BB, width, label=f'All Star {b}')\n",
    "rects2 = ax.bar(x + width/2, league_BB, width, label=f'League {b}')\n",
    "\n",
    "plt.legend()\n",
    "plt.xticks(np.arange(5), labels=labels_year)\n",
    "plt.title(f'All Star vs. League in Average {b} by Year')\n",
    "plt.xlabel(f'{a}')\n",
    "plt.ylabel(f'{b}')\n",
    "plt.ylim((0,0.4))\n",
    "\n",
    "plt.show()\n",
    "\n",
    "# Commented-out to prevent regenerating file\n",
    "plt.savefig('Images/Allstar_vs_League_BB%.png',dpi=400)"
   ]
  },
  {
   "cell_type": "code",
   "execution_count": 260,
   "id": "4f8639c2",
   "metadata": {},
   "outputs": [
    {
     "data": {
      "image/png": "[encoded data removed]",
      "text/plain": [
       "<Figure size 432x288 with 1 Axes>"
      ]
     },
     "metadata": {
      "needs_background": "light"
     },
     "output_type": "display_data"
    }
   ],
   "source": [
    "# Generating box plot of ERA data\n",
    "fig = allstar_df.boxplot(\"ERA+\", by=\"Year\")\n",
    "fig.set_title('')\n",
    "fig.set_ylabel('ERA+')\n",
    "\n",
    "# Commented-out to prevent regenerating file\n",
    "plt.savefig('Images/Allstar_ERA+_Boxplot.png',dpi=400)"
   ]
  },
  {
   "cell_type": "code",
   "execution_count": null,
   "id": "a624317f",
   "metadata": {},
   "outputs": [],
   "source": []
  },
  {
   "cell_type": "markdown",
   "id": "28316447",
   "metadata": {},
   "source": [
    "### Starting scatter plot trend analysis"
   ]
  },
  {
   "cell_type": "code",
   "execution_count": 46,
   "id": "e4611198",
   "metadata": {},
   "outputs": [
    {
     "data": {
      "text/html": [
       "<div>\n",
       "<style scoped>\n",
       "    .dataframe tbody tr th:only-of-type {\n",
       "        vertical-align: middle;\n",
       "    }\n",
       "\n",
       "    .dataframe tbody tr th {\n",
       "        vertical-align: top;\n",
       "    }\n",
       "\n",
       "    .dataframe thead th {\n",
       "        text-align: right;\n",
       "    }\n",
       "</style>\n",
       "<table border=\"1\" class=\"dataframe\">\n",
       "  <thead>\n",
       "    <tr style=\"text-align: right;\">\n",
       "      <th></th>\n",
       "      <th>name_display_first_last</th>\n",
       "      <th>weight</th>\n",
       "      <th>height_feet</th>\n",
       "      <th>height_inches</th>\n",
       "      <th>birth_country</th>\n",
       "      <th>birth_state</th>\n",
       "      <th>team_full</th>\n",
       "    </tr>\n",
       "  </thead>\n",
       "  <tbody>\n",
       "    <tr>\n",
       "      <th>0</th>\n",
       "      <td>Shane Bieber</td>\n",
       "      <td>200</td>\n",
       "      <td>6</td>\n",
       "      <td>3</td>\n",
       "      <td>USA</td>\n",
       "      <td>CA</td>\n",
       "      <td>Cleveland Indians</td>\n",
       "    </tr>\n",
       "    <tr>\n",
       "      <th>1</th>\n",
       "      <td>Aroldis Chapman</td>\n",
       "      <td>218</td>\n",
       "      <td>6</td>\n",
       "      <td>4</td>\n",
       "      <td>Cuba</td>\n",
       "      <td>NaN</td>\n",
       "      <td>New York Yankees</td>\n",
       "    </tr>\n",
       "  </tbody>\n",
       "</table>\n",
       "</div>"
      ],
      "text/plain": [
       "  name_display_first_last  weight  height_feet  height_inches birth_country  \\\n",
       "0            Shane Bieber     200            6              3           USA   \n",
       "1         Aroldis Chapman     218            6              4          Cuba   \n",
       "\n",
       "  birth_state          team_full  \n",
       "0          CA  Cleveland Indians  \n",
       "1         NaN   New York Yankees  "
      ]
     },
     "execution_count": 46,
     "metadata": {},
     "output_type": "execute_result"
    }
   ],
   "source": [
    "# Cleaning up 'dimensions_dict.csv' data set to display height and weight\n",
    "dimensions = pd.read_csv(fpath2)\n",
    "dimensions2 = dimensions.iloc[:,[1,2,3,4,5,6,7,11,26,12,14,16]]\n",
    "dimensions3 = dimensions2.iloc[:,[4,2,10,6,1,3,11]]\n",
    "dimensions3.head(2)"
   ]
  },
  {
   "cell_type": "code",
   "execution_count": 48,
   "id": "cbd35659",
   "metadata": {},
   "outputs": [
    {
     "data": {
      "text/html": [
       "<div>\n",
       "<style scoped>\n",
       "    .dataframe tbody tr th:only-of-type {\n",
       "        vertical-align: middle;\n",
       "    }\n",
       "\n",
       "    .dataframe tbody tr th {\n",
       "        vertical-align: top;\n",
       "    }\n",
       "\n",
       "    .dataframe thead th {\n",
       "        text-align: right;\n",
       "    }\n",
       "</style>\n",
       "<table border=\"1\" class=\"dataframe\">\n",
       "  <thead>\n",
       "    <tr style=\"text-align: right;\">\n",
       "      <th></th>\n",
       "      <th>Player Name</th>\n",
       "      <th>weight</th>\n",
       "      <th>height</th>\n",
       "    </tr>\n",
       "  </thead>\n",
       "  <tbody>\n",
       "    <tr>\n",
       "      <th>0</th>\n",
       "      <td>Shane Bieber</td>\n",
       "      <td>200</td>\n",
       "      <td>75</td>\n",
       "    </tr>\n",
       "    <tr>\n",
       "      <th>1</th>\n",
       "      <td>Aroldis Chapman</td>\n",
       "      <td>218</td>\n",
       "      <td>76</td>\n",
       "    </tr>\n",
       "    <tr>\n",
       "      <th>2</th>\n",
       "      <td>Gerrit Cole</td>\n",
       "      <td>220</td>\n",
       "      <td>76</td>\n",
       "    </tr>\n",
       "    <tr>\n",
       "      <th>3</th>\n",
       "      <td>Lucas Giolito</td>\n",
       "      <td>245</td>\n",
       "      <td>78</td>\n",
       "    </tr>\n",
       "    <tr>\n",
       "      <th>4</th>\n",
       "      <td>Shane Greene</td>\n",
       "      <td>200</td>\n",
       "      <td>76</td>\n",
       "    </tr>\n",
       "    <tr>\n",
       "      <th>...</th>\n",
       "      <td>...</td>\n",
       "      <td>...</td>\n",
       "      <td>...</td>\n",
       "    </tr>\n",
       "    <tr>\n",
       "      <th>140</th>\n",
       "      <td>Kelvin Herrera</td>\n",
       "      <td>220</td>\n",
       "      <td>70</td>\n",
       "    </tr>\n",
       "    <tr>\n",
       "      <th>141</th>\n",
       "      <td>Darren O'Day</td>\n",
       "      <td>220</td>\n",
       "      <td>76</td>\n",
       "    </tr>\n",
       "    <tr>\n",
       "      <th>142</th>\n",
       "      <td>David Price</td>\n",
       "      <td>215</td>\n",
       "      <td>77</td>\n",
       "    </tr>\n",
       "    <tr>\n",
       "      <th>143</th>\n",
       "      <td>Chris Sale</td>\n",
       "      <td>183</td>\n",
       "      <td>78</td>\n",
       "    </tr>\n",
       "    <tr>\n",
       "      <th>144</th>\n",
       "      <td>Hector Santiago</td>\n",
       "      <td>215</td>\n",
       "      <td>72</td>\n",
       "    </tr>\n",
       "  </tbody>\n",
       "</table>\n",
       "<p>145 rows × 3 columns</p>\n",
       "</div>"
      ],
      "text/plain": [
       "         Player Name  weight  height\n",
       "0       Shane Bieber     200      75\n",
       "1    Aroldis Chapman     218      76\n",
       "2        Gerrit Cole     220      76\n",
       "3      Lucas Giolito     245      78\n",
       "4       Shane Greene     200      76\n",
       "..               ...     ...     ...\n",
       "140   Kelvin Herrera     220      70\n",
       "141     Darren O'Day     220      76\n",
       "142      David Price     215      77\n",
       "143       Chris Sale     183      78\n",
       "144  Hector Santiago     215      72\n",
       "\n",
       "[145 rows x 3 columns]"
      ]
     },
     "execution_count": 48,
     "metadata": {},
     "output_type": "execute_result"
    }
   ],
   "source": [
    "# Additional cleaning to get height and weight\n",
    "height_df = dimensions3.copy()\n",
    "\n",
    "# Convert height into single dimension (inches)\n",
    "height_df['height'] = height_df['height_feet']*12+height_df['height_inches']\n",
    "height_df = height_df.rename(columns={\"name_display_first_last\": \"Player Name\"})\n",
    "\n",
    "# Filtering out extra columns\n",
    "height_df = height_df.iloc[:,[0,1,7]]\n",
    "height_df"
   ]
  },
  {
   "cell_type": "code",
   "execution_count": 227,
   "id": "fe92611f",
   "metadata": {},
   "outputs": [
    {
     "data": {
      "text/html": [
       "<div>\n",
       "<style scoped>\n",
       "    .dataframe tbody tr th:only-of-type {\n",
       "        vertical-align: middle;\n",
       "    }\n",
       "\n",
       "    .dataframe tbody tr th {\n",
       "        vertical-align: top;\n",
       "    }\n",
       "\n",
       "    .dataframe thead th {\n",
       "        text-align: right;\n",
       "    }\n",
       "</style>\n",
       "<table border=\"1\" class=\"dataframe\">\n",
       "  <thead>\n",
       "    <tr style=\"text-align: right;\">\n",
       "      <th></th>\n",
       "      <th>Player Name</th>\n",
       "      <th>weight</th>\n",
       "      <th>height</th>\n",
       "      <th>Unnamed: 0</th>\n",
       "      <th>Year</th>\n",
       "      <th>Shortname</th>\n",
       "      <th>Age</th>\n",
       "      <th>ERA</th>\n",
       "      <th>ERA+</th>\n",
       "      <th>K%</th>\n",
       "      <th>BB%</th>\n",
       "    </tr>\n",
       "  </thead>\n",
       "  <tbody>\n",
       "    <tr>\n",
       "      <th>0</th>\n",
       "      <td>Shane Bieber</td>\n",
       "      <td>200</td>\n",
       "      <td>75</td>\n",
       "      <td>0.0</td>\n",
       "      <td>2019.0</td>\n",
       "      <td>biebesh01</td>\n",
       "      <td>24.0</td>\n",
       "      <td>3.28</td>\n",
       "      <td>147.0</td>\n",
       "      <td>0.302</td>\n",
       "      <td>0.047</td>\n",
       "    </tr>\n",
       "    <tr>\n",
       "      <th>1</th>\n",
       "      <td>Aroldis Chapman</td>\n",
       "      <td>218</td>\n",
       "      <td>76</td>\n",
       "      <td>1.0</td>\n",
       "      <td>2019.0</td>\n",
       "      <td>chapmar01</td>\n",
       "      <td>31.0</td>\n",
       "      <td>2.21</td>\n",
       "      <td>206.0</td>\n",
       "      <td>0.362</td>\n",
       "      <td>0.106</td>\n",
       "    </tr>\n",
       "  </tbody>\n",
       "</table>\n",
       "</div>"
      ],
      "text/plain": [
       "       Player Name  weight  height  Unnamed: 0    Year  Shortname   Age   ERA  \\\n",
       "0     Shane Bieber     200      75         0.0  2019.0  biebesh01  24.0  3.28   \n",
       "1  Aroldis Chapman     218      76         1.0  2019.0  chapmar01  31.0  2.21   \n",
       "\n",
       "    ERA+     K%    BB%  \n",
       "0  147.0  0.302  0.047  \n",
       "1  206.0  0.362  0.106  "
      ]
     },
     "execution_count": 227,
     "metadata": {},
     "output_type": "execute_result"
    }
   ],
   "source": [
    "# Merging the player dimensions into the allstar dataframe\n",
    "# Cleaning duplicates and NA values\n",
    "merge_dim = pd.merge(height_df,allstar_df,left_on='Player Name', right_on='Player Name',how ='left')\n",
    "merge_dim = merge_dim.drop_duplicates()\n",
    "merge_dim = merge_dim.dropna()\n",
    "merge_dim.head(2)"
   ]
  },
  {
   "cell_type": "code",
   "execution_count": 261,
   "id": "e828de0f",
   "metadata": {},
   "outputs": [
    {
     "data": {
      "image/png": "[encoded data removed]",
      "text/plain": [
       "<Figure size 432x288 with 1 Axes>"
      ]
     },
     "metadata": {
      "needs_background": "light"
     },
     "output_type": "display_data"
    }
   ],
   "source": [
    "year = 2019\n",
    "x_axis = 'height'\n",
    "y_axis = 'ERA+'\n",
    "title = f'{y_axis} vs. {x_axis} for {year}'\n",
    "\n",
    "ht_2019 = merge_dim.loc[merge_dim['Year'] == year,:]\n",
    "from scipy.stats import linregress\n",
    "\n",
    "x_values = ht_2019[x_axis]\n",
    "y_values = ht_2019[y_axis]\n",
    "\n",
    "\n",
    "(slope, intercept, rvalue, pvalue, stderr) = linregress(x_values, y_values)\n",
    "regress_values = x_values * slope + intercept\n",
    "line_eq = \"y = \" + str(round(slope)) + \"x + \" + str(round(intercept,2))\n",
    "plt.scatter(x_values,y_values)\n",
    "plt.plot(x_values,regress_values,\"r-\")\n",
    "plt.annotate(line_eq,(72,250),fontsize=15,color=\"red\")\n",
    "plt.title(title)\n",
    "plt.xlabel(x_axis)\n",
    "plt.ylabel(y_axis)\n",
    "\n",
    "# Commented-out to prevent regenerating file\n",
    "plt.savefig(f'Images/{title}_regression.png',dpi=400)"
   ]
  },
  {
   "cell_type": "code",
   "execution_count": 262,
   "id": "ac45f4e7",
   "metadata": {},
   "outputs": [
    {
     "data": {
      "image/png": "[encoded data removed]",
      "text/plain": [
       "<Figure size 432x288 with 1 Axes>"
      ]
     },
     "metadata": {
      "needs_background": "light"
     },
     "output_type": "display_data"
    }
   ],
   "source": [
    "year = 2018\n",
    "x_axis = 'height'\n",
    "y_axis = 'ERA+'\n",
    "title = f'{y_axis} vs. {x_axis} for {year}'\n",
    "\n",
    "ht_2019 = merge_dim.loc[merge_dim['Year'] == year,:]\n",
    "from scipy.stats import linregress\n",
    "\n",
    "x_values = ht_2018[x_axis]\n",
    "y_values = ht_2018[y_axis]\n",
    "\n",
    "\n",
    "(slope, intercept, rvalue, pvalue, stderr) = linregress(x_values, y_values)\n",
    "regress_values = x_values * slope + intercept\n",
    "line_eq = \"y = \" + str(round(slope,1)) + \"x + \" + str(round(intercept,2))\n",
    "plt.scatter(x_values,y_values)\n",
    "plt.plot(x_values,regress_values,\"r-\")\n",
    "plt.annotate(line_eq,(72,250),fontsize=15,color=\"red\")\n",
    "plt.title(title)\n",
    "plt.xlabel(x_axis)\n",
    "plt.ylabel(y_axis)\n",
    "\n",
    "# Commented-out to prevent regenerating file\n",
    "plt.savefig(f'Images/{title}_regression.png',dpi=400)"
   ]
  },
  {
   "cell_type": "code",
   "execution_count": 263,
   "id": "4de50fa5",
   "metadata": {},
   "outputs": [
    {
     "data": {
      "image/png": "[encoded data removed]",
      "text/plain": [
       "<Figure size 432x288 with 1 Axes>"
      ]
     },
     "metadata": {
      "needs_background": "light"
     },
     "output_type": "display_data"
    }
   ],
   "source": [
    "year = 2017\n",
    "x_axis = 'height'\n",
    "y_axis = 'ERA+'\n",
    "title = f'{y_axis} vs. {x_axis} for {year}'\n",
    "\n",
    "ht_2019 = merge_dim.loc[merge_dim['Year'] == year,:]\n",
    "from scipy.stats import linregress\n",
    "\n",
    "x_values = ht_2017[x_axis]\n",
    "y_values = ht_2017[y_axis]\n",
    "\n",
    "\n",
    "(slope, intercept, rvalue, pvalue, stderr) = linregress(x_values, y_values)\n",
    "regress_values = x_values * slope + intercept\n",
    "line_eq = \"y = \" + str(round(slope)) + \"x + \" + str(round(intercept,2))\n",
    "plt.scatter(x_values,y_values)\n",
    "plt.plot(x_values,regress_values,\"r-\")\n",
    "plt.annotate(line_eq,(72,250),fontsize=15,color=\"red\")\n",
    "plt.title(title)\n",
    "plt.xlabel(x_axis)\n",
    "plt.ylabel(y_axis)\n",
    "\n",
    "# Commented-out to prevent regenerating file\n",
    "plt.savefig(f'Images/{title}_regression.png',dpi=400)"
   ]
  },
  {
   "cell_type": "code",
   "execution_count": 264,
   "id": "e9a00cde",
   "metadata": {},
   "outputs": [
    {
     "data": {
      "image/png": "[encoded data removed]",
      "text/plain": [
       "<Figure size 432x288 with 1 Axes>"
      ]
     },
     "metadata": {
      "needs_background": "light"
     },
     "output_type": "display_data"
    }
   ],
   "source": [
    "year = 2016\n",
    "x_axis = 'height'\n",
    "y_axis = 'ERA+'\n",
    "title = f'{y_axis} vs. {x_axis} for {year}'\n",
    "\n",
    "ht_2019 = merge_dim.loc[merge_dim['Year'] == year,:]\n",
    "from scipy.stats import linregress\n",
    "\n",
    "x_values = ht_2016[x_axis]\n",
    "y_values = ht_2016[y_axis]\n",
    "\n",
    "\n",
    "(slope, intercept, rvalue, pvalue, stderr) = linregress(x_values, y_values)\n",
    "regress_values = x_values * slope + intercept\n",
    "line_eq = \"y = \" + str(round(slope,2)) + \"x + \" + str(round(intercept,2))\n",
    "plt.scatter(x_values,y_values)\n",
    "plt.plot(x_values,regress_values,\"r-\")\n",
    "plt.annotate(line_eq,(72,250),fontsize=15,color=\"red\")\n",
    "plt.title(title)\n",
    "plt.xlabel(x_axis)\n",
    "plt.ylabel(y_axis)\n",
    "\n",
    "# Commented-out to prevent regenerating file\n",
    "plt.savefig(f'Images/{title}_regression.png',dpi=400)"
   ]
  },
  {
   "cell_type": "code",
   "execution_count": 265,
   "id": "8387be6a",
   "metadata": {},
   "outputs": [
    {
     "data": {
      "image/png": "[encoded data removed]",
      "text/plain": [
       "<Figure size 432x288 with 1 Axes>"
      ]
     },
     "metadata": {
      "needs_background": "light"
     },
     "output_type": "display_data"
    }
   ],
   "source": [
    "year = 2015\n",
    "x_axis = 'height'\n",
    "y_axis = 'ERA+'\n",
    "title = f'{y_axis} vs. {x_axis} for {year}'\n",
    "\n",
    "ht_2019 = merge_dim.loc[merge_dim['Year'] == year,:]\n",
    "from scipy.stats import linregress\n",
    "\n",
    "x_values = ht_2015[x_axis]\n",
    "y_values = ht_2015[y_axis]\n",
    "\n",
    "\n",
    "(slope, intercept, rvalue, pvalue, stderr) = linregress(x_values, y_values)\n",
    "regress_values = x_values * slope + intercept\n",
    "line_eq = \"y = \" + str(round(slope)) + \"x + \" + str(round(intercept,2))\n",
    "plt.scatter(x_values,y_values)\n",
    "plt.plot(x_values,regress_values,\"r-\")\n",
    "plt.annotate(line_eq,(72,250),fontsize=15,color=\"red\")\n",
    "plt.title(title)\n",
    "plt.xlabel(x_axis)\n",
    "plt.ylabel(y_axis)\n",
    "\n",
    "# Commented-out to prevent regenerating file\n",
    "plt.savefig(f'Images/{title}_regression.png',dpi=400)"
   ]
  },
  {
   "cell_type": "code",
   "execution_count": 266,
   "id": "21c1a7c5",
   "metadata": {},
   "outputs": [
    {
     "name": "stdout",
     "output_type": "stream",
     "text": [
      "298.625\n"
     ]
    },
    {
     "data": {
      "image/png": "[encoded data removed]",
      "text/plain": [
       "<Figure size 432x288 with 1 Axes>"
      ]
     },
     "metadata": {
      "needs_background": "light"
     },
     "output_type": "display_data"
    }
   ],
   "source": [
    "# Setting parameters for kernel\n",
    "year = 2015\n",
    "x_axis = 'height'\n",
    "y_axis = 'ERA+'\n",
    "title = f'{y_axis} vs. {x_axis} for {year} (Outliers removed)'\n",
    "\n",
    "# Grabbing all stars for selected year\n",
    "df = merge_dim.loc[merge_dim['Year'] == year,:]\n",
    "era = df['ERA+']\n",
    "\n",
    "# Building quartiles to filter out outliers\n",
    "quartiles = era.quantile([0.25,0.5,0.75])\n",
    "lowerq = quartiles[0.25] \n",
    "upperq = quartiles[0.75]\n",
    "iqr = upperq-lowerq \n",
    "lower_bound = lowerq - (1.5*iqr) \n",
    "upper_bound = upperq + (1.5*iqr) \n",
    "print(upper_bound)\n",
    "\n",
    "# Removing outliers from data set for this year\n",
    "df2= df.loc[df['ERA+'] < upper_bound,:]\n",
    "\n",
    "# Gathering data for plotting\n",
    "x_values = df2[x_axis]\n",
    "y_values = df2[y_axis]\n",
    "\n",
    "#Regression \n",
    "(slope, intercept, rvalue, pvalue, stderr) = linregress(x_values, y_values)\n",
    "regress_values = x_values * slope + intercept\n",
    "line_eq = \"y = \" + str(round(slope)) + \"x + \" + str(round(intercept,2))\n",
    "plt.scatter(x_values,y_values)\n",
    "plt.plot(x_values,regress_values,\"r-\")\n",
    "plt.annotate(line_eq,(72,250),fontsize=15,color=\"red\")\n",
    "plt.title(title)\n",
    "plt.xlabel(x_axis)\n",
    "plt.ylabel(y_axis)\n",
    "plt.ylim(75,280)\n",
    "\n",
    "# Commented-out to prevent regenerating file\n",
    "plt.savefig(f'Images/{title}_regression.png',dpi=400)"
   ]
  },
  {
   "cell_type": "code",
   "execution_count": 267,
   "id": "0dcd35db",
   "metadata": {},
   "outputs": [
    {
     "name": "stdout",
     "output_type": "stream",
     "text": [
      "244.0\n"
     ]
    },
    {
     "data": {
      "image/png": "[encoded data removed]",
      "text/plain": [
       "<Figure size 432x288 with 1 Axes>"
      ]
     },
     "metadata": {
      "needs_background": "light"
     },
     "output_type": "display_data"
    }
   ],
   "source": [
    "# Setting parameters for kernel\n",
    "year = 2016\n",
    "x_axis = 'height'\n",
    "y_axis = 'ERA+'\n",
    "title = f'{y_axis} vs. {x_axis} for {year} (Outliers removed)'\n",
    "\n",
    "# Grabbing all stars for selected year\n",
    "df = merge_dim.loc[merge_dim['Year'] == year,:]\n",
    "era = df['ERA+']\n",
    "\n",
    "# Building quartiles to filter out outliers\n",
    "quartiles = era.quantile([0.25,0.5,0.75])\n",
    "lowerq = quartiles[0.25] \n",
    "upperq = quartiles[0.75]\n",
    "iqr = upperq-lowerq \n",
    "lower_bound = lowerq - (1.5*iqr) \n",
    "upper_bound = upperq + (1.5*iqr) \n",
    "print(upper_bound)\n",
    "\n",
    "# Removing outliers from data set for this year\n",
    "df2= df.loc[df['ERA+'] < upper_bound,:]\n",
    "\n",
    "# Gathering data for plotting\n",
    "x_values = df2[x_axis]\n",
    "y_values = df2[y_axis]\n",
    "\n",
    "#Regression \n",
    "(slope, intercept, rvalue, pvalue, stderr) = linregress(x_values, y_values)\n",
    "regress_values = x_values * slope + intercept\n",
    "line_eq = \"y = \" + str(round(slope)) + \"x + \" + str(round(intercept,2))\n",
    "plt.scatter(x_values,y_values)\n",
    "plt.plot(x_values,regress_values,\"r-\")\n",
    "plt.annotate(line_eq,(72,250),fontsize=15,color=\"red\")\n",
    "plt.title(title)\n",
    "plt.xlabel(x_axis)\n",
    "plt.ylabel(y_axis)\n",
    "plt.ylim(75,280)\n",
    "\n",
    "# Commented-out to prevent regenerating file\n",
    "plt.savefig(f'Images/{title}_regression.png',dpi=400)"
   ]
  },
  {
   "cell_type": "code",
   "execution_count": 268,
   "id": "1daa31df",
   "metadata": {},
   "outputs": [
    {
     "name": "stdout",
     "output_type": "stream",
     "text": [
      "277.5\n"
     ]
    },
    {
     "data": {
      "image/png": "[encoded data removed]",
      "text/plain": [
       "<Figure size 432x288 with 1 Axes>"
      ]
     },
     "metadata": {
      "needs_background": "light"
     },
     "output_type": "display_data"
    }
   ],
   "source": [
    "# Setting parameters for kernel\n",
    "year = 2017\n",
    "x_axis = 'height'\n",
    "y_axis = 'ERA+'\n",
    "title = f'{y_axis} vs. {x_axis} for {year} (Outliers removed)'\n",
    "\n",
    "# Grabbing all stars for selected year\n",
    "df = merge_dim.loc[merge_dim['Year'] == year,:]\n",
    "era = df['ERA+']\n",
    "\n",
    "# Building quartiles to filter out outliers\n",
    "quartiles = era.quantile([0.25,0.5,0.75])\n",
    "lowerq = quartiles[0.25] \n",
    "upperq = quartiles[0.75]\n",
    "iqr = upperq-lowerq \n",
    "lower_bound = lowerq - (1.5*iqr) \n",
    "upper_bound = upperq + (1.5*iqr) \n",
    "print(upper_bound)\n",
    "\n",
    "# Removing outliers from data set for this year\n",
    "df2= df.loc[df['ERA+'] < upper_bound,:]\n",
    "\n",
    "# Gathering data for plotting\n",
    "x_values = df2[x_axis]\n",
    "y_values = df2[y_axis]\n",
    "\n",
    "#Regression \n",
    "(slope, intercept, rvalue, pvalue, stderr) = linregress(x_values, y_values)\n",
    "regress_values = x_values * slope + intercept\n",
    "line_eq = \"y = \" + str(round(slope)) + \"x + \" + str(round(intercept,2))\n",
    "plt.scatter(x_values,y_values)\n",
    "plt.plot(x_values,regress_values,\"r-\")\n",
    "plt.annotate(line_eq,(72,250),fontsize=15,color=\"red\")\n",
    "plt.title(title)\n",
    "plt.xlabel(x_axis)\n",
    "plt.ylabel(y_axis)\n",
    "plt.ylim(75,280)\n",
    "\n",
    "# Commented-out to prevent regenerating file\n",
    "plt.savefig(f'Images/{title}_regression.png',dpi=400)"
   ]
  },
  {
   "cell_type": "code",
   "execution_count": 269,
   "id": "7b5d80f1",
   "metadata": {},
   "outputs": [
    {
     "name": "stdout",
     "output_type": "stream",
     "text": [
      "278.375\n"
     ]
    },
    {
     "data": {
      "image/png": "[encoded data removed]",
      "text/plain": [
       "<Figure size 432x288 with 1 Axes>"
      ]
     },
     "metadata": {
      "needs_background": "light"
     },
     "output_type": "display_data"
    }
   ],
   "source": [
    "# Setting parameters for kernel\n",
    "year = 2018\n",
    "x_axis = 'height'\n",
    "y_axis = 'ERA+'\n",
    "title = f'{y_axis} vs. {x_axis} for {year} (Outliers removed)'\n",
    "\n",
    "# Grabbing all stars for selected year\n",
    "df = merge_dim.loc[merge_dim['Year'] == year,:]\n",
    "era = df['ERA+']\n",
    "\n",
    "# Building quartiles to filter out outliers\n",
    "quartiles = era.quantile([0.25,0.5,0.75])\n",
    "lowerq = quartiles[0.25] \n",
    "upperq = quartiles[0.75]\n",
    "iqr = upperq-lowerq \n",
    "lower_bound = lowerq - (1.5*iqr) \n",
    "upper_bound = upperq + (1.5*iqr) \n",
    "print(upper_bound)\n",
    "\n",
    "# Removing outliers from data set for this year\n",
    "df2= df.loc[df['ERA+'] < upper_bound,:]\n",
    "\n",
    "# Gathering data for plotting\n",
    "x_values = df2[x_axis]\n",
    "y_values = df2[y_axis]\n",
    "\n",
    "#Regression \n",
    "(slope, intercept, rvalue, pvalue, stderr) = linregress(x_values, y_values)\n",
    "regress_values = x_values * slope + intercept\n",
    "line_eq = \"y = \" + str(round(slope,3)) + \"x + \" + str(round(intercept,2))\n",
    "plt.scatter(x_values,y_values)\n",
    "plt.plot(x_values,regress_values,\"r-\")\n",
    "plt.annotate(line_eq,(72,250),fontsize=15,color=\"red\")\n",
    "plt.title(title)\n",
    "plt.xlabel(x_axis)\n",
    "plt.ylabel(y_axis)\n",
    "plt.ylim(75,280)\n",
    "\n",
    "# Commented-out to prevent regenerating file\n",
    "plt.savefig(f'Images/{title}_regression.png',dpi=400)"
   ]
  },
  {
   "cell_type": "code",
   "execution_count": 270,
   "id": "f8bcddb4",
   "metadata": {},
   "outputs": [
    {
     "name": "stdout",
     "output_type": "stream",
     "text": [
      "245.75\n"
     ]
    },
    {
     "data": {
      "image/png": "[encoded data removed]",
      "text/plain": [
       "<Figure size 432x288 with 1 Axes>"
      ]
     },
     "metadata": {
      "needs_background": "light"
     },
     "output_type": "display_data"
    }
   ],
   "source": [
    "# Setting parameters for kernel\n",
    "year = 2019\n",
    "x_axis = 'height'\n",
    "y_axis = 'ERA+'\n",
    "title = f'{y_axis} vs. {x_axis} for {year} (Outliers removed)'\n",
    "\n",
    "# Grabbing all stars for selected year\n",
    "df = merge_dim.loc[merge_dim['Year'] == year,:]\n",
    "era = df['ERA+']\n",
    "\n",
    "# Building quartiles to filter out outliers\n",
    "quartiles = era.quantile([0.25,0.5,0.75])\n",
    "lowerq = quartiles[0.25] \n",
    "upperq = quartiles[0.75]\n",
    "iqr = upperq-lowerq \n",
    "lower_bound = lowerq - (1.5*iqr) \n",
    "upper_bound = upperq + (1.5*iqr) \n",
    "print(upper_bound)\n",
    "\n",
    "# Removing outliers from data set for this year\n",
    "df2= df.loc[df['ERA+'] < upper_bound,:]\n",
    "\n",
    "# Gathering data for plotting\n",
    "x_values = df2[x_axis]\n",
    "y_values = df2[y_axis]\n",
    "\n",
    "#Regression \n",
    "(slope, intercept, rvalue, pvalue, stderr) = linregress(x_values, y_values)\n",
    "regress_values = x_values * slope + intercept\n",
    "line_eq = \"y = \" + str(round(slope,2)) + \"x + \" + str(round(intercept,2))\n",
    "plt.scatter(x_values,y_values)\n",
    "plt.plot(x_values,regress_values,\"r-\")\n",
    "plt.annotate(line_eq,(72,250),fontsize=15,color=\"red\")\n",
    "plt.title(title)\n",
    "plt.xlabel(x_axis)\n",
    "plt.ylabel(y_axis)\n",
    "plt.ylim(75,280)\n",
    "\n",
    "# Commented-out to prevent regenerating file\n",
    "plt.savefig(f'Images/{title}_regression.png',dpi=400)"
   ]
  },
  {
   "cell_type": "code",
   "execution_count": null,
   "id": "39a9af34",
   "metadata": {},
   "outputs": [],
   "source": []
  },
  {
   "cell_type": "code",
   "execution_count": 215,
   "id": "a7c48769",
   "metadata": {},
   "outputs": [
    {
     "data": {
      "text/html": [
       "<div>\n",
       "<style scoped>\n",
       "    .dataframe tbody tr th:only-of-type {\n",
       "        vertical-align: middle;\n",
       "    }\n",
       "\n",
       "    .dataframe tbody tr th {\n",
       "        vertical-align: top;\n",
       "    }\n",
       "\n",
       "    .dataframe thead th {\n",
       "        text-align: right;\n",
       "    }\n",
       "</style>\n",
       "<table border=\"1\" class=\"dataframe\">\n",
       "  <thead>\n",
       "    <tr style=\"text-align: right;\">\n",
       "      <th></th>\n",
       "      <th>Unnamed: 0</th>\n",
       "      <th>Year</th>\n",
       "      <th>Player Name</th>\n",
       "      <th>Shortname</th>\n",
       "      <th>Age</th>\n",
       "      <th>ERA</th>\n",
       "      <th>ERA+</th>\n",
       "      <th>K%</th>\n",
       "      <th>BB%</th>\n",
       "    </tr>\n",
       "  </thead>\n",
       "  <tbody>\n",
       "    <tr>\n",
       "      <th>58</th>\n",
       "      <td>58</td>\n",
       "      <td>2018</td>\n",
       "      <td>Blake Treinen</td>\n",
       "      <td>treinbl01</td>\n",
       "      <td>30.0</td>\n",
       "      <td>0.78</td>\n",
       "      <td>531.0</td>\n",
       "      <td>0.318</td>\n",
       "      <td>0.067</td>\n",
       "    </tr>\n",
       "  </tbody>\n",
       "</table>\n",
       "</div>"
      ],
      "text/plain": [
       "    Unnamed: 0  Year    Player Name  Shortname   Age   ERA   ERA+     K%  \\\n",
       "58          58  2018  Blake Treinen  treinbl01  30.0  0.78  531.0  0.318   \n",
       "\n",
       "      BB%  \n",
       "58  0.067  "
      ]
     },
     "execution_count": 215,
     "metadata": {},
     "output_type": "execute_result"
    }
   ],
   "source": [
    "a= allstar_df.loc[allstar_df['ERA+']>400,:]\n",
    "b= a.loc[a['Year']==2018,:]\n",
    "b"
   ]
  },
  {
   "cell_type": "code",
   "execution_count": null,
   "id": "814def68",
   "metadata": {},
   "outputs": [],
   "source": []
  }
 ],
 "metadata": {
  "kernelspec": {
   "display_name": "Python 3",
   "language": "python",
   "name": "python3"
  },
  "language_info": {
   "codemirror_mode": {
    "name": "ipython",
    "version": 3
   },
   "file_extension": ".py",
   "mimetype": "text/x-python",
   "name": "python",
   "nbconvert_exporter": "python",
   "pygments_lexer": "ipython3",
   "version": "3.8.8"
  }
 },
 "nbformat": 4,
 "nbformat_minor": 5
}
